{
 "cells": [
  {
   "cell_type": "markdown",
   "metadata": {},
   "source": [
    "# Machine learning using scikit-learn\n",
    "\n",
    "There are many kinds of machine learning algorithms. Here, we consider: *supervised* and *unsupervised* learning. \n",
    "\n",
    "Examples for supervised algorithms: classification, regression, etc.  \n",
    "Examples for unsupervised algorithms: clustering, dimension reduction, etc.\n",
    "\n",
    "## scikit-learn estimators\n",
    "\n",
    "Scikit-learn strives to have a uniform interface across all objects. Given a scikit-learn *estimator* named `model`, the following methods are available:\n",
    "\n",
    "- Available in **all estimators**\n",
    "  + `model.fit()` : Fit training data. For supervised learning applications,\n",
    "    this accepts two arguments: the data `X` and the labels `y` (e.g., `model.fit(X, y)`).\n",
    "    For unsupervised learning applications, ``fit`` takes only a single argument,\n",
    "    the data `X` (e.g. `model.fit(X)`).\n",
    "    \n",
    "- Available in **supervised estimators**\n",
    "  + `model.predict()` : Given a trained model, predict the label of a new set of data.\n",
    "    This method accepts one argument, the new data `X_new` (e.g., `model.predict(X_new)`),\n",
    "    and returns the learned label for each object in the array.\n",
    "  + `model.fit_predict()`: Fits and predicts at the same time.  \n",
    "  + `model.predict_proba()` : For classification problems, some estimators also provide\n",
    "    this method, which returns the probability that a new observation has each categorical label.\n",
    "    In this case, the label with the highest probability is returned by `model.predict()`.\n",
    "  + `model.score()` : An indication of how well the model fits the training data.  Scores are between 0 and 1, with a larger score indicating a better fit.\n",
    "  \n",
    "## Data in scikit-learn\n",
    "\n",
    "Data in scikit-learn, with very few exceptions, is assumed to be stored as a\n",
    "**two-dimensional array** of size `[n_samples, n_features]`. Many algorithms also accept ``scipy.sparse`` matrices of the same shape.\n",
    "\n",
    "- **n_samples:**   The number of samples: each sample is an item to process (e.g., classify).\n",
    "  A sample can be a document, a picture, a sound, a video, an astronomical object,\n",
    "  a row in database or CSV file, or whatever you can describe with a fixed set of quantitative traits.\n",
    "- **n_features:**  The number of features or distinct traits that can be used to describe each\n",
    "  item in a quantitative manner. Features are generally real-valued, but may be boolean or\n",
    "  discrete-valued in some cases.\n",
    "  \n",
    "Support for pandas DataFrames is on the horizon (see [proposal](https://github.com/scikit-learn/enhancement_proposals/blob/4588fc41908eaa8e3a3988addb00084e14a5f888/slep014/proposal.rst)).\n",
    "  \n",
    "### Numerical vs. categorical\n",
    "\n",
    "What if you have categorical features?  For example, imagine there is dataset containing the color of the\n",
    "iris:\n",
    "\n",
    "    color in [red, blue, purple]\n",
    "\n",
    "You might be tempted to assign numbers to these features, i.e. *red=1, blue=2, purple=3*\n",
    "but in general **this is a bad idea**.  Estimators tend to operate under the assumption that\n",
    "numerical features lie on some continuous scale, so, for example, 1 and 2 are more alike\n",
    "than 1 and 3, and this is often not the case for categorical features.\n",
    "\n",
    "A better strategy is to give each category its own dimension.  \n",
    "The enriched iris feature set would hence be in this case:\n",
    "\n",
    "- sepal length in cm\n",
    "- sepal width in cm\n",
    "- petal length in cm\n",
    "- petal width in cm\n",
    "- color=purple (1.0 or 0.0)\n",
    "- color=blue (1.0 or 0.0)\n",
    "- color=red (1.0 or 0.0)\n",
    "\n",
    "Note that using many of these categorical features may result in data which is better\n",
    "represented as a **sparse matrix**, as we'll see with the text classification example\n",
    "below.\n",
    "\n",
    "#### Using the DictVectorizer to encode categorical features\n",
    "\n",
    "When the source data has a list of dicts where the values are either string names of categories or numerical values, you can use the `DictVectorizer` class to compute the boolean expansion of the categorical features while leaving the numerical features unimpacted:"
   ]
  },
  {
   "cell_type": "code",
   "execution_count": 1,
   "metadata": {},
   "outputs": [],
   "source": [
    "#disable some annoying warning\n",
    "import warnings\n",
    "warnings.filterwarnings('ignore', category=FutureWarning)\n",
    "\n",
    "import numpy as np\n",
    "import pandas as pd\n",
    "\n",
    "import altair as alt"
   ]
  },
  {
   "cell_type": "code",
   "execution_count": 2,
   "metadata": {},
   "outputs": [],
   "source": [
    "measurements = [\n",
    "    {'city': 'Dubai', 'temperature': 33.},\n",
    "    {'city': 'London', 'temperature': 12.},\n",
    "    {'city': 'San Francisco', 'temperature': 18.},\n",
    "]"
   ]
  },
  {
   "cell_type": "code",
   "execution_count": 3,
   "metadata": {},
   "outputs": [
    {
     "data": {
      "text/plain": [
       "array([[ 1.,  0.,  0., 33.],\n",
       "       [ 0.,  1.,  0., 12.],\n",
       "       [ 0.,  0.,  1., 18.]])"
      ]
     },
     "execution_count": 3,
     "metadata": {},
     "output_type": "execute_result"
    }
   ],
   "source": [
    "from sklearn.feature_extraction import DictVectorizer\n",
    "vec = DictVectorizer()\n",
    "tf_measurements = vec.fit_transform(measurements)\n",
    "tf_measurements.toarray()"
   ]
  },
  {
   "cell_type": "code",
   "execution_count": 4,
   "metadata": {},
   "outputs": [
    {
     "data": {
      "text/plain": [
       "array(['city=Dubai', 'city=London', 'city=San Francisco', 'temperature'],\n",
       "      dtype=object)"
      ]
     },
     "execution_count": 4,
     "metadata": {},
     "output_type": "execute_result"
    }
   ],
   "source": [
    "vec.get_feature_names_out()"
   ]
  },
  {
   "cell_type": "code",
   "execution_count": 5,
   "metadata": {},
   "outputs": [
    {
     "data": {
      "text/html": [
       "<div>\n",
       "<style scoped>\n",
       "    .dataframe tbody tr th:only-of-type {\n",
       "        vertical-align: middle;\n",
       "    }\n",
       "\n",
       "    .dataframe tbody tr th {\n",
       "        vertical-align: top;\n",
       "    }\n",
       "\n",
       "    .dataframe thead th {\n",
       "        text-align: right;\n",
       "    }\n",
       "</style>\n",
       "<table border=\"1\" class=\"dataframe\">\n",
       "  <thead>\n",
       "    <tr style=\"text-align: right;\">\n",
       "      <th></th>\n",
       "      <th>city=Dubai</th>\n",
       "      <th>city=London</th>\n",
       "      <th>city=San Francisco</th>\n",
       "      <th>temperature</th>\n",
       "    </tr>\n",
       "  </thead>\n",
       "  <tbody>\n",
       "    <tr>\n",
       "      <th>0</th>\n",
       "      <td>1.0</td>\n",
       "      <td>0.0</td>\n",
       "      <td>0.0</td>\n",
       "      <td>33.0</td>\n",
       "    </tr>\n",
       "    <tr>\n",
       "      <th>1</th>\n",
       "      <td>0.0</td>\n",
       "      <td>1.0</td>\n",
       "      <td>0.0</td>\n",
       "      <td>12.0</td>\n",
       "    </tr>\n",
       "    <tr>\n",
       "      <th>2</th>\n",
       "      <td>0.0</td>\n",
       "      <td>0.0</td>\n",
       "      <td>1.0</td>\n",
       "      <td>18.0</td>\n",
       "    </tr>\n",
       "  </tbody>\n",
       "</table>\n",
       "</div>"
      ],
      "text/plain": [
       "   city=Dubai  city=London  city=San Francisco  temperature\n",
       "0         1.0          0.0                 0.0         33.0\n",
       "1         0.0          1.0                 0.0         12.0\n",
       "2         0.0          0.0                 1.0         18.0"
      ]
     },
     "execution_count": 5,
     "metadata": {},
     "output_type": "execute_result"
    }
   ],
   "source": [
    "pd.DataFrame(tf_measurements.toarray(), columns=vec.get_feature_names_out())"
   ]
  },
  {
   "cell_type": "markdown",
   "metadata": {},
   "source": [
    "#### Using Pandas to encode categorical features\n",
    "You can also use pandas to encode categorical features with the [get_dummies](https://pandas.pydata.org/docs/reference/api/pandas.get_dummies.html) function."
   ]
  },
  {
   "cell_type": "code",
   "execution_count": 6,
   "metadata": {},
   "outputs": [],
   "source": [
    "import pandas as pd"
   ]
  },
  {
   "cell_type": "code",
   "execution_count": 7,
   "metadata": {},
   "outputs": [
    {
     "data": {
      "text/html": [
       "<div>\n",
       "<style scoped>\n",
       "    .dataframe tbody tr th:only-of-type {\n",
       "        vertical-align: middle;\n",
       "    }\n",
       "\n",
       "    .dataframe tbody tr th {\n",
       "        vertical-align: top;\n",
       "    }\n",
       "\n",
       "    .dataframe thead th {\n",
       "        text-align: right;\n",
       "    }\n",
       "</style>\n",
       "<table border=\"1\" class=\"dataframe\">\n",
       "  <thead>\n",
       "    <tr style=\"text-align: right;\">\n",
       "      <th></th>\n",
       "      <th>city</th>\n",
       "      <th>temperature</th>\n",
       "    </tr>\n",
       "  </thead>\n",
       "  <tbody>\n",
       "    <tr>\n",
       "      <th>0</th>\n",
       "      <td>Dubai</td>\n",
       "      <td>33.0</td>\n",
       "    </tr>\n",
       "    <tr>\n",
       "      <th>1</th>\n",
       "      <td>London</td>\n",
       "      <td>12.0</td>\n",
       "    </tr>\n",
       "    <tr>\n",
       "      <th>2</th>\n",
       "      <td>San Francisco</td>\n",
       "      <td>18.0</td>\n",
       "    </tr>\n",
       "  </tbody>\n",
       "</table>\n",
       "</div>"
      ],
      "text/plain": [
       "            city  temperature\n",
       "0          Dubai         33.0\n",
       "1         London         12.0\n",
       "2  San Francisco         18.0"
      ]
     },
     "execution_count": 7,
     "metadata": {},
     "output_type": "execute_result"
    }
   ],
   "source": [
    "pd_measurement = pd.DataFrame(measurements)\n",
    "pd_measurement.head()"
   ]
  },
  {
   "cell_type": "code",
   "execution_count": 8,
   "metadata": {},
   "outputs": [
    {
     "data": {
      "text/plain": [
       "Index(['city'], dtype='object')"
      ]
     },
     "execution_count": 8,
     "metadata": {},
     "output_type": "execute_result"
    }
   ],
   "source": [
    "# get all categorical features of the data\n",
    "pd_measurement.select_dtypes(exclude=['number']).columns"
   ]
  },
  {
   "cell_type": "code",
   "execution_count": 9,
   "metadata": {},
   "outputs": [
    {
     "data": {
      "text/html": [
       "<div>\n",
       "<style scoped>\n",
       "    .dataframe tbody tr th:only-of-type {\n",
       "        vertical-align: middle;\n",
       "    }\n",
       "\n",
       "    .dataframe tbody tr th {\n",
       "        vertical-align: top;\n",
       "    }\n",
       "\n",
       "    .dataframe thead th {\n",
       "        text-align: right;\n",
       "    }\n",
       "</style>\n",
       "<table border=\"1\" class=\"dataframe\">\n",
       "  <thead>\n",
       "    <tr style=\"text-align: right;\">\n",
       "      <th></th>\n",
       "      <th>temperature</th>\n",
       "      <th>city_Dubai</th>\n",
       "      <th>city_London</th>\n",
       "      <th>city_San Francisco</th>\n",
       "    </tr>\n",
       "  </thead>\n",
       "  <tbody>\n",
       "    <tr>\n",
       "      <th>0</th>\n",
       "      <td>33.0</td>\n",
       "      <td>1</td>\n",
       "      <td>0</td>\n",
       "      <td>0</td>\n",
       "    </tr>\n",
       "    <tr>\n",
       "      <th>1</th>\n",
       "      <td>12.0</td>\n",
       "      <td>0</td>\n",
       "      <td>1</td>\n",
       "      <td>0</td>\n",
       "    </tr>\n",
       "    <tr>\n",
       "      <th>2</th>\n",
       "      <td>18.0</td>\n",
       "      <td>0</td>\n",
       "      <td>0</td>\n",
       "      <td>1</td>\n",
       "    </tr>\n",
       "  </tbody>\n",
       "</table>\n",
       "</div>"
      ],
      "text/plain": [
       "   temperature  city_Dubai  city_London  city_San Francisco\n",
       "0         33.0           1            0                   0\n",
       "1         12.0           0            1                   0\n",
       "2         18.0           0            0                   1"
      ]
     },
     "execution_count": 9,
     "metadata": {},
     "output_type": "execute_result"
    }
   ],
   "source": [
    "# encode the categorical features\n",
    "encoded_data = pd.get_dummies(pd_measurement)\n",
    "# hint: be careful about which features to encode. For example. avoid the 'car' (= name) feature from the mtcars.cvs file as its an identifier for every car\n",
    "\n",
    "encoded_data.head()"
   ]
  },
  {
   "cell_type": "markdown",
   "metadata": {},
   "source": [
    "## Unsupervised Partitioning using K-Means\n",
    "With K-means algorithm, you can put your data into _k_ clusters."
   ]
  },
  {
   "cell_type": "code",
   "execution_count": 10,
   "metadata": {},
   "outputs": [
    {
     "data": {
      "text/html": [
       "<div>\n",
       "<style scoped>\n",
       "    .dataframe tbody tr th:only-of-type {\n",
       "        vertical-align: middle;\n",
       "    }\n",
       "\n",
       "    .dataframe tbody tr th {\n",
       "        vertical-align: top;\n",
       "    }\n",
       "\n",
       "    .dataframe thead th {\n",
       "        text-align: right;\n",
       "    }\n",
       "</style>\n",
       "<table border=\"1\" class=\"dataframe\">\n",
       "  <thead>\n",
       "    <tr style=\"text-align: right;\">\n",
       "      <th></th>\n",
       "      <th>sepal length (cm)</th>\n",
       "      <th>sepal width (cm)</th>\n",
       "      <th>petal length (cm)</th>\n",
       "      <th>petal width (cm)</th>\n",
       "      <th>target</th>\n",
       "    </tr>\n",
       "  </thead>\n",
       "  <tbody>\n",
       "    <tr>\n",
       "      <th>0</th>\n",
       "      <td>5.1</td>\n",
       "      <td>3.5</td>\n",
       "      <td>1.4</td>\n",
       "      <td>0.2</td>\n",
       "      <td>0</td>\n",
       "    </tr>\n",
       "    <tr>\n",
       "      <th>1</th>\n",
       "      <td>4.9</td>\n",
       "      <td>3.0</td>\n",
       "      <td>1.4</td>\n",
       "      <td>0.2</td>\n",
       "      <td>0</td>\n",
       "    </tr>\n",
       "    <tr>\n",
       "      <th>2</th>\n",
       "      <td>4.7</td>\n",
       "      <td>3.2</td>\n",
       "      <td>1.3</td>\n",
       "      <td>0.2</td>\n",
       "      <td>0</td>\n",
       "    </tr>\n",
       "    <tr>\n",
       "      <th>3</th>\n",
       "      <td>4.6</td>\n",
       "      <td>3.1</td>\n",
       "      <td>1.5</td>\n",
       "      <td>0.2</td>\n",
       "      <td>0</td>\n",
       "    </tr>\n",
       "    <tr>\n",
       "      <th>4</th>\n",
       "      <td>5.0</td>\n",
       "      <td>3.6</td>\n",
       "      <td>1.4</td>\n",
       "      <td>0.2</td>\n",
       "      <td>0</td>\n",
       "    </tr>\n",
       "  </tbody>\n",
       "</table>\n",
       "</div>"
      ],
      "text/plain": [
       "   sepal length (cm)  sepal width (cm)  petal length (cm)  petal width (cm)  \\\n",
       "0                5.1               3.5                1.4               0.2   \n",
       "1                4.9               3.0                1.4               0.2   \n",
       "2                4.7               3.2                1.3               0.2   \n",
       "3                4.6               3.1                1.5               0.2   \n",
       "4                5.0               3.6                1.4               0.2   \n",
       "\n",
       "   target  \n",
       "0       0  \n",
       "1       0  \n",
       "2       0  \n",
       "3       0  \n",
       "4       0  "
      ]
     },
     "execution_count": 10,
     "metadata": {},
     "output_type": "execute_result"
    }
   ],
   "source": [
    "#load the iris datasets\n",
    "import sklearn.datasets\n",
    "\n",
    "data = sklearn.datasets.load_iris(as_frame=True)\n",
    "iris = data.frame\n",
    "iris.head()"
   ]
  },
  {
   "cell_type": "code",
   "execution_count": 11,
   "metadata": {},
   "outputs": [
    {
     "data": {
      "text/plain": [
       "'1.0.1'"
      ]
     },
     "execution_count": 11,
     "metadata": {},
     "output_type": "execute_result"
    }
   ],
   "source": [
    "sklearn.__version__"
   ]
  },
  {
   "cell_type": "code",
   "execution_count": 12,
   "metadata": {},
   "outputs": [],
   "source": [
    "from sklearn.cluster import KMeans\n",
    "iris['predict'] = KMeans(n_clusters=3, random_state = 102).fit_predict(data.data)"
   ]
  },
  {
   "cell_type": "code",
   "execution_count": 13,
   "metadata": {},
   "outputs": [
    {
     "data": {
      "text/html": [
       "\n",
       "<div id=\"altair-viz-010f58e1b50f45bb88be6dee79909c35\"></div>\n",
       "<script type=\"text/javascript\">\n",
       "  (function(spec, embedOpt){\n",
       "    let outputDiv = document.currentScript.previousElementSibling;\n",
       "    if (outputDiv.id !== \"altair-viz-010f58e1b50f45bb88be6dee79909c35\") {\n",
       "      outputDiv = document.getElementById(\"altair-viz-010f58e1b50f45bb88be6dee79909c35\");\n",
       "    }\n",
       "    const paths = {\n",
       "      \"vega\": \"https://cdn.jsdelivr.net/npm//vega@5?noext\",\n",
       "      \"vega-lib\": \"https://cdn.jsdelivr.net/npm//vega-lib?noext\",\n",
       "      \"vega-lite\": \"https://cdn.jsdelivr.net/npm//vega-lite@4.8.1?noext\",\n",
       "      \"vega-embed\": \"https://cdn.jsdelivr.net/npm//vega-embed@6?noext\",\n",
       "    };\n",
       "\n",
       "    function loadScript(lib) {\n",
       "      return new Promise(function(resolve, reject) {\n",
       "        var s = document.createElement('script');\n",
       "        s.src = paths[lib];\n",
       "        s.async = true;\n",
       "        s.onload = () => resolve(paths[lib]);\n",
       "        s.onerror = () => reject(`Error loading script: ${paths[lib]}`);\n",
       "        document.getElementsByTagName(\"head\")[0].appendChild(s);\n",
       "      });\n",
       "    }\n",
       "\n",
       "    function showError(err) {\n",
       "      outputDiv.innerHTML = `<div class=\"error\" style=\"color:red;\">${err}</div>`;\n",
       "      throw err;\n",
       "    }\n",
       "\n",
       "    function displayChart(vegaEmbed) {\n",
       "      vegaEmbed(outputDiv, spec, embedOpt)\n",
       "        .catch(err => showError(`Javascript Error: ${err.message}<br>This usually means there's a typo in your chart specification. See the javascript console for the full traceback.`));\n",
       "    }\n",
       "\n",
       "    if(typeof define === \"function\" && define.amd) {\n",
       "      requirejs.config({paths});\n",
       "      require([\"vega-embed\"], displayChart, err => showError(`Error loading script: ${err.message}`));\n",
       "    } else if (typeof vegaEmbed === \"function\") {\n",
       "      displayChart(vegaEmbed);\n",
       "    } else {\n",
       "      loadScript(\"vega\")\n",
       "        .then(() => loadScript(\"vega-lite\"))\n",
       "        .then(() => loadScript(\"vega-embed\"))\n",
       "        .catch(showError)\n",
       "        .then(() => displayChart(vegaEmbed));\n",
       "    }\n",
       "  })({\"config\": {\"view\": {\"continuousWidth\": 400, \"continuousHeight\": 300}}, \"hconcat\": [{\"mark\": \"circle\", \"encoding\": {\"color\": {\"type\": \"nominal\", \"field\": \"target\"}, \"x\": {\"type\": \"quantitative\", \"field\": \"sepal length (cm)\", \"scale\": {\"zero\": false}}, \"y\": {\"type\": \"quantitative\", \"field\": \"sepal width (cm)\", \"scale\": {\"zero\": false}}}, \"title\": \"Ground Truth\"}, {\"mark\": \"circle\", \"encoding\": {\"color\": {\"type\": \"nominal\", \"field\": \"predict\"}, \"x\": {\"type\": \"quantitative\", \"field\": \"sepal length (cm)\", \"scale\": {\"zero\": false}}, \"y\": {\"type\": \"quantitative\", \"field\": \"sepal width (cm)\", \"scale\": {\"zero\": false}}}, \"title\": \"KMeans-3 clusterer\"}], \"data\": {\"name\": \"data-b3182cb57165bfc5d9978f1204c0b25d\"}, \"$schema\": \"https://vega.github.io/schema/vega-lite/v4.8.1.json\", \"datasets\": {\"data-b3182cb57165bfc5d9978f1204c0b25d\": [{\"sepal length (cm)\": 5.1, \"sepal width (cm)\": 3.5, \"petal length (cm)\": 1.4, \"petal width (cm)\": 0.2, \"target\": 0, \"predict\": 0}, {\"sepal length (cm)\": 4.9, \"sepal width (cm)\": 3.0, \"petal length (cm)\": 1.4, \"petal width (cm)\": 0.2, \"target\": 0, \"predict\": 0}, {\"sepal length (cm)\": 4.7, \"sepal width (cm)\": 3.2, \"petal length (cm)\": 1.3, \"petal width (cm)\": 0.2, \"target\": 0, \"predict\": 0}, {\"sepal length (cm)\": 4.6, \"sepal width (cm)\": 3.1, \"petal length (cm)\": 1.5, \"petal width (cm)\": 0.2, \"target\": 0, \"predict\": 0}, {\"sepal length (cm)\": 5.0, \"sepal width (cm)\": 3.6, \"petal length (cm)\": 1.4, \"petal width (cm)\": 0.2, \"target\": 0, \"predict\": 0}, {\"sepal length (cm)\": 5.4, \"sepal width (cm)\": 3.9, \"petal length (cm)\": 1.7, \"petal width (cm)\": 0.4, \"target\": 0, \"predict\": 0}, {\"sepal length (cm)\": 4.6, \"sepal width (cm)\": 3.4, \"petal length (cm)\": 1.4, \"petal width (cm)\": 0.3, \"target\": 0, \"predict\": 0}, {\"sepal length (cm)\": 5.0, \"sepal width (cm)\": 3.4, \"petal length (cm)\": 1.5, \"petal width (cm)\": 0.2, \"target\": 0, \"predict\": 0}, {\"sepal length (cm)\": 4.4, \"sepal width (cm)\": 2.9, \"petal length (cm)\": 1.4, \"petal width (cm)\": 0.2, \"target\": 0, \"predict\": 0}, {\"sepal length (cm)\": 4.9, \"sepal width (cm)\": 3.1, \"petal length (cm)\": 1.5, \"petal width (cm)\": 0.1, \"target\": 0, \"predict\": 0}, {\"sepal length (cm)\": 5.4, \"sepal width (cm)\": 3.7, \"petal length (cm)\": 1.5, \"petal width (cm)\": 0.2, \"target\": 0, \"predict\": 0}, {\"sepal length (cm)\": 4.8, \"sepal width (cm)\": 3.4, \"petal length (cm)\": 1.6, \"petal width (cm)\": 0.2, \"target\": 0, \"predict\": 0}, {\"sepal length (cm)\": 4.8, \"sepal width (cm)\": 3.0, \"petal length (cm)\": 1.4, \"petal width (cm)\": 0.1, \"target\": 0, \"predict\": 0}, {\"sepal length (cm)\": 4.3, \"sepal width (cm)\": 3.0, \"petal length (cm)\": 1.1, \"petal width (cm)\": 0.1, \"target\": 0, \"predict\": 0}, {\"sepal length (cm)\": 5.8, \"sepal width (cm)\": 4.0, \"petal length (cm)\": 1.2, \"petal width (cm)\": 0.2, \"target\": 0, \"predict\": 0}, {\"sepal length (cm)\": 5.7, \"sepal width (cm)\": 4.4, \"petal length (cm)\": 1.5, \"petal width (cm)\": 0.4, \"target\": 0, \"predict\": 0}, {\"sepal length (cm)\": 5.4, \"sepal width (cm)\": 3.9, \"petal length (cm)\": 1.3, \"petal width (cm)\": 0.4, \"target\": 0, \"predict\": 0}, {\"sepal length (cm)\": 5.1, \"sepal width (cm)\": 3.5, \"petal length (cm)\": 1.4, \"petal width (cm)\": 0.3, \"target\": 0, \"predict\": 0}, {\"sepal length (cm)\": 5.7, \"sepal width (cm)\": 3.8, \"petal length (cm)\": 1.7, \"petal width (cm)\": 0.3, \"target\": 0, \"predict\": 0}, {\"sepal length (cm)\": 5.1, \"sepal width (cm)\": 3.8, \"petal length (cm)\": 1.5, \"petal width (cm)\": 0.3, \"target\": 0, \"predict\": 0}, {\"sepal length (cm)\": 5.4, \"sepal width (cm)\": 3.4, \"petal length (cm)\": 1.7, \"petal width (cm)\": 0.2, \"target\": 0, \"predict\": 0}, {\"sepal length (cm)\": 5.1, \"sepal width (cm)\": 3.7, \"petal length (cm)\": 1.5, \"petal width (cm)\": 0.4, \"target\": 0, \"predict\": 0}, {\"sepal length (cm)\": 4.6, \"sepal width (cm)\": 3.6, \"petal length (cm)\": 1.0, \"petal width (cm)\": 0.2, \"target\": 0, \"predict\": 0}, {\"sepal length (cm)\": 5.1, \"sepal width (cm)\": 3.3, \"petal length (cm)\": 1.7, \"petal width (cm)\": 0.5, \"target\": 0, \"predict\": 0}, {\"sepal length (cm)\": 4.8, \"sepal width (cm)\": 3.4, \"petal length (cm)\": 1.9, \"petal width (cm)\": 0.2, \"target\": 0, \"predict\": 0}, {\"sepal length (cm)\": 5.0, \"sepal width (cm)\": 3.0, \"petal length (cm)\": 1.6, \"petal width (cm)\": 0.2, \"target\": 0, \"predict\": 0}, {\"sepal length (cm)\": 5.0, \"sepal width (cm)\": 3.4, \"petal length (cm)\": 1.6, \"petal width (cm)\": 0.4, \"target\": 0, \"predict\": 0}, {\"sepal length (cm)\": 5.2, \"sepal width (cm)\": 3.5, \"petal length (cm)\": 1.5, \"petal width (cm)\": 0.2, \"target\": 0, \"predict\": 0}, {\"sepal length (cm)\": 5.2, \"sepal width (cm)\": 3.4, \"petal length (cm)\": 1.4, \"petal width (cm)\": 0.2, \"target\": 0, \"predict\": 0}, {\"sepal length (cm)\": 4.7, \"sepal width (cm)\": 3.2, \"petal length (cm)\": 1.6, \"petal width (cm)\": 0.2, \"target\": 0, \"predict\": 0}, {\"sepal length (cm)\": 4.8, \"sepal width (cm)\": 3.1, \"petal length (cm)\": 1.6, \"petal width (cm)\": 0.2, \"target\": 0, \"predict\": 0}, {\"sepal length (cm)\": 5.4, \"sepal width (cm)\": 3.4, \"petal length (cm)\": 1.5, \"petal width (cm)\": 0.4, \"target\": 0, \"predict\": 0}, {\"sepal length (cm)\": 5.2, \"sepal width (cm)\": 4.1, \"petal length (cm)\": 1.5, \"petal width (cm)\": 0.1, \"target\": 0, \"predict\": 0}, {\"sepal length (cm)\": 5.5, \"sepal width (cm)\": 4.2, \"petal length (cm)\": 1.4, \"petal width (cm)\": 0.2, \"target\": 0, \"predict\": 0}, {\"sepal length (cm)\": 4.9, \"sepal width (cm)\": 3.1, \"petal length (cm)\": 1.5, \"petal width (cm)\": 0.2, \"target\": 0, \"predict\": 0}, {\"sepal length (cm)\": 5.0, \"sepal width (cm)\": 3.2, \"petal length (cm)\": 1.2, \"petal width (cm)\": 0.2, \"target\": 0, \"predict\": 0}, {\"sepal length (cm)\": 5.5, \"sepal width (cm)\": 3.5, \"petal length (cm)\": 1.3, \"petal width (cm)\": 0.2, \"target\": 0, \"predict\": 0}, {\"sepal length (cm)\": 4.9, \"sepal width (cm)\": 3.6, \"petal length (cm)\": 1.4, \"petal width (cm)\": 0.1, \"target\": 0, \"predict\": 0}, {\"sepal length (cm)\": 4.4, \"sepal width (cm)\": 3.0, \"petal length (cm)\": 1.3, \"petal width (cm)\": 0.2, \"target\": 0, \"predict\": 0}, {\"sepal length (cm)\": 5.1, \"sepal width (cm)\": 3.4, \"petal length (cm)\": 1.5, \"petal width (cm)\": 0.2, \"target\": 0, \"predict\": 0}, {\"sepal length (cm)\": 5.0, \"sepal width (cm)\": 3.5, \"petal length (cm)\": 1.3, \"petal width (cm)\": 0.3, \"target\": 0, \"predict\": 0}, {\"sepal length (cm)\": 4.5, \"sepal width (cm)\": 2.3, \"petal length (cm)\": 1.3, \"petal width (cm)\": 0.3, \"target\": 0, \"predict\": 0}, {\"sepal length (cm)\": 4.4, \"sepal width (cm)\": 3.2, \"petal length (cm)\": 1.3, \"petal width (cm)\": 0.2, \"target\": 0, \"predict\": 0}, {\"sepal length (cm)\": 5.0, \"sepal width (cm)\": 3.5, \"petal length (cm)\": 1.6, \"petal width (cm)\": 0.6, \"target\": 0, \"predict\": 0}, {\"sepal length (cm)\": 5.1, \"sepal width (cm)\": 3.8, \"petal length (cm)\": 1.9, \"petal width (cm)\": 0.4, \"target\": 0, \"predict\": 0}, {\"sepal length (cm)\": 4.8, \"sepal width (cm)\": 3.0, \"petal length (cm)\": 1.4, \"petal width (cm)\": 0.3, \"target\": 0, \"predict\": 0}, {\"sepal length (cm)\": 5.1, \"sepal width (cm)\": 3.8, \"petal length (cm)\": 1.6, \"petal width (cm)\": 0.2, \"target\": 0, \"predict\": 0}, {\"sepal length (cm)\": 4.6, \"sepal width (cm)\": 3.2, \"petal length (cm)\": 1.4, \"petal width (cm)\": 0.2, \"target\": 0, \"predict\": 0}, {\"sepal length (cm)\": 5.3, \"sepal width (cm)\": 3.7, \"petal length (cm)\": 1.5, \"petal width (cm)\": 0.2, \"target\": 0, \"predict\": 0}, {\"sepal length (cm)\": 5.0, \"sepal width (cm)\": 3.3, \"petal length (cm)\": 1.4, \"petal width (cm)\": 0.2, \"target\": 0, \"predict\": 0}, {\"sepal length (cm)\": 7.0, \"sepal width (cm)\": 3.2, \"petal length (cm)\": 4.7, \"petal width (cm)\": 1.4, \"target\": 1, \"predict\": 1}, {\"sepal length (cm)\": 6.4, \"sepal width (cm)\": 3.2, \"petal length (cm)\": 4.5, \"petal width (cm)\": 1.5, \"target\": 1, \"predict\": 1}, {\"sepal length (cm)\": 6.9, \"sepal width (cm)\": 3.1, \"petal length (cm)\": 4.9, \"petal width (cm)\": 1.5, \"target\": 1, \"predict\": 2}, {\"sepal length (cm)\": 5.5, \"sepal width (cm)\": 2.3, \"petal length (cm)\": 4.0, \"petal width (cm)\": 1.3, \"target\": 1, \"predict\": 1}, {\"sepal length (cm)\": 6.5, \"sepal width (cm)\": 2.8, \"petal length (cm)\": 4.6, \"petal width (cm)\": 1.5, \"target\": 1, \"predict\": 1}, {\"sepal length (cm)\": 5.7, \"sepal width (cm)\": 2.8, \"petal length (cm)\": 4.5, \"petal width (cm)\": 1.3, \"target\": 1, \"predict\": 1}, {\"sepal length (cm)\": 6.3, \"sepal width (cm)\": 3.3, \"petal length (cm)\": 4.7, \"petal width (cm)\": 1.6, \"target\": 1, \"predict\": 1}, {\"sepal length (cm)\": 4.9, \"sepal width (cm)\": 2.4, \"petal length (cm)\": 3.3, \"petal width (cm)\": 1.0, \"target\": 1, \"predict\": 1}, {\"sepal length (cm)\": 6.6, \"sepal width (cm)\": 2.9, \"petal length (cm)\": 4.6, \"petal width (cm)\": 1.3, \"target\": 1, \"predict\": 1}, {\"sepal length (cm)\": 5.2, \"sepal width (cm)\": 2.7, \"petal length (cm)\": 3.9, \"petal width (cm)\": 1.4, \"target\": 1, \"predict\": 1}, {\"sepal length (cm)\": 5.0, \"sepal width (cm)\": 2.0, \"petal length (cm)\": 3.5, \"petal width (cm)\": 1.0, \"target\": 1, \"predict\": 1}, {\"sepal length (cm)\": 5.9, \"sepal width (cm)\": 3.0, \"petal length (cm)\": 4.2, \"petal width (cm)\": 1.5, \"target\": 1, \"predict\": 1}, {\"sepal length (cm)\": 6.0, \"sepal width (cm)\": 2.2, \"petal length (cm)\": 4.0, \"petal width (cm)\": 1.0, \"target\": 1, \"predict\": 1}, {\"sepal length (cm)\": 6.1, \"sepal width (cm)\": 2.9, \"petal length (cm)\": 4.7, \"petal width (cm)\": 1.4, \"target\": 1, \"predict\": 1}, {\"sepal length (cm)\": 5.6, \"sepal width (cm)\": 2.9, \"petal length (cm)\": 3.6, \"petal width (cm)\": 1.3, \"target\": 1, \"predict\": 1}, {\"sepal length (cm)\": 6.7, \"sepal width (cm)\": 3.1, \"petal length (cm)\": 4.4, \"petal width (cm)\": 1.4, \"target\": 1, \"predict\": 1}, {\"sepal length (cm)\": 5.6, \"sepal width (cm)\": 3.0, \"petal length (cm)\": 4.5, \"petal width (cm)\": 1.5, \"target\": 1, \"predict\": 1}, {\"sepal length (cm)\": 5.8, \"sepal width (cm)\": 2.7, \"petal length (cm)\": 4.1, \"petal width (cm)\": 1.0, \"target\": 1, \"predict\": 1}, {\"sepal length (cm)\": 6.2, \"sepal width (cm)\": 2.2, \"petal length (cm)\": 4.5, \"petal width (cm)\": 1.5, \"target\": 1, \"predict\": 1}, {\"sepal length (cm)\": 5.6, \"sepal width (cm)\": 2.5, \"petal length (cm)\": 3.9, \"petal width (cm)\": 1.1, \"target\": 1, \"predict\": 1}, {\"sepal length (cm)\": 5.9, \"sepal width (cm)\": 3.2, \"petal length (cm)\": 4.8, \"petal width (cm)\": 1.8, \"target\": 1, \"predict\": 1}, {\"sepal length (cm)\": 6.1, \"sepal width (cm)\": 2.8, \"petal length (cm)\": 4.0, \"petal width (cm)\": 1.3, \"target\": 1, \"predict\": 1}, {\"sepal length (cm)\": 6.3, \"sepal width (cm)\": 2.5, \"petal length (cm)\": 4.9, \"petal width (cm)\": 1.5, \"target\": 1, \"predict\": 1}, {\"sepal length (cm)\": 6.1, \"sepal width (cm)\": 2.8, \"petal length (cm)\": 4.7, \"petal width (cm)\": 1.2, \"target\": 1, \"predict\": 1}, {\"sepal length (cm)\": 6.4, \"sepal width (cm)\": 2.9, \"petal length (cm)\": 4.3, \"petal width (cm)\": 1.3, \"target\": 1, \"predict\": 1}, {\"sepal length (cm)\": 6.6, \"sepal width (cm)\": 3.0, \"petal length (cm)\": 4.4, \"petal width (cm)\": 1.4, \"target\": 1, \"predict\": 1}, {\"sepal length (cm)\": 6.8, \"sepal width (cm)\": 2.8, \"petal length (cm)\": 4.8, \"petal width (cm)\": 1.4, \"target\": 1, \"predict\": 1}, {\"sepal length (cm)\": 6.7, \"sepal width (cm)\": 3.0, \"petal length (cm)\": 5.0, \"petal width (cm)\": 1.7, \"target\": 1, \"predict\": 2}, {\"sepal length (cm)\": 6.0, \"sepal width (cm)\": 2.9, \"petal length (cm)\": 4.5, \"petal width (cm)\": 1.5, \"target\": 1, \"predict\": 1}, {\"sepal length (cm)\": 5.7, \"sepal width (cm)\": 2.6, \"petal length (cm)\": 3.5, \"petal width (cm)\": 1.0, \"target\": 1, \"predict\": 1}, {\"sepal length (cm)\": 5.5, \"sepal width (cm)\": 2.4, \"petal length (cm)\": 3.8, \"petal width (cm)\": 1.1, \"target\": 1, \"predict\": 1}, {\"sepal length (cm)\": 5.5, \"sepal width (cm)\": 2.4, \"petal length (cm)\": 3.7, \"petal width (cm)\": 1.0, \"target\": 1, \"predict\": 1}, {\"sepal length (cm)\": 5.8, \"sepal width (cm)\": 2.7, \"petal length (cm)\": 3.9, \"petal width (cm)\": 1.2, \"target\": 1, \"predict\": 1}, {\"sepal length (cm)\": 6.0, \"sepal width (cm)\": 2.7, \"petal length (cm)\": 5.1, \"petal width (cm)\": 1.6, \"target\": 1, \"predict\": 1}, {\"sepal length (cm)\": 5.4, \"sepal width (cm)\": 3.0, \"petal length (cm)\": 4.5, \"petal width (cm)\": 1.5, \"target\": 1, \"predict\": 1}, {\"sepal length (cm)\": 6.0, \"sepal width (cm)\": 3.4, \"petal length (cm)\": 4.5, \"petal width (cm)\": 1.6, \"target\": 1, \"predict\": 1}, {\"sepal length (cm)\": 6.7, \"sepal width (cm)\": 3.1, \"petal length (cm)\": 4.7, \"petal width (cm)\": 1.5, \"target\": 1, \"predict\": 1}, {\"sepal length (cm)\": 6.3, \"sepal width (cm)\": 2.3, \"petal length (cm)\": 4.4, \"petal width (cm)\": 1.3, \"target\": 1, \"predict\": 1}, {\"sepal length (cm)\": 5.6, \"sepal width (cm)\": 3.0, \"petal length (cm)\": 4.1, \"petal width (cm)\": 1.3, \"target\": 1, \"predict\": 1}, {\"sepal length (cm)\": 5.5, \"sepal width (cm)\": 2.5, \"petal length (cm)\": 4.0, \"petal width (cm)\": 1.3, \"target\": 1, \"predict\": 1}, {\"sepal length (cm)\": 5.5, \"sepal width (cm)\": 2.6, \"petal length (cm)\": 4.4, \"petal width (cm)\": 1.2, \"target\": 1, \"predict\": 1}, {\"sepal length (cm)\": 6.1, \"sepal width (cm)\": 3.0, \"petal length (cm)\": 4.6, \"petal width (cm)\": 1.4, \"target\": 1, \"predict\": 1}, {\"sepal length (cm)\": 5.8, \"sepal width (cm)\": 2.6, \"petal length (cm)\": 4.0, \"petal width (cm)\": 1.2, \"target\": 1, \"predict\": 1}, {\"sepal length (cm)\": 5.0, \"sepal width (cm)\": 2.3, \"petal length (cm)\": 3.3, \"petal width (cm)\": 1.0, \"target\": 1, \"predict\": 1}, {\"sepal length (cm)\": 5.6, \"sepal width (cm)\": 2.7, \"petal length (cm)\": 4.2, \"petal width (cm)\": 1.3, \"target\": 1, \"predict\": 1}, {\"sepal length (cm)\": 5.7, \"sepal width (cm)\": 3.0, \"petal length (cm)\": 4.2, \"petal width (cm)\": 1.2, \"target\": 1, \"predict\": 1}, {\"sepal length (cm)\": 5.7, \"sepal width (cm)\": 2.9, \"petal length (cm)\": 4.2, \"petal width (cm)\": 1.3, \"target\": 1, \"predict\": 1}, {\"sepal length (cm)\": 6.2, \"sepal width (cm)\": 2.9, \"petal length (cm)\": 4.3, \"petal width (cm)\": 1.3, \"target\": 1, \"predict\": 1}, {\"sepal length (cm)\": 5.1, \"sepal width (cm)\": 2.5, \"petal length (cm)\": 3.0, \"petal width (cm)\": 1.1, \"target\": 1, \"predict\": 1}, {\"sepal length (cm)\": 5.7, \"sepal width (cm)\": 2.8, \"petal length (cm)\": 4.1, \"petal width (cm)\": 1.3, \"target\": 1, \"predict\": 1}, {\"sepal length (cm)\": 6.3, \"sepal width (cm)\": 3.3, \"petal length (cm)\": 6.0, \"petal width (cm)\": 2.5, \"target\": 2, \"predict\": 2}, {\"sepal length (cm)\": 5.8, \"sepal width (cm)\": 2.7, \"petal length (cm)\": 5.1, \"petal width (cm)\": 1.9, \"target\": 2, \"predict\": 1}, {\"sepal length (cm)\": 7.1, \"sepal width (cm)\": 3.0, \"petal length (cm)\": 5.9, \"petal width (cm)\": 2.1, \"target\": 2, \"predict\": 2}, {\"sepal length (cm)\": 6.3, \"sepal width (cm)\": 2.9, \"petal length (cm)\": 5.6, \"petal width (cm)\": 1.8, \"target\": 2, \"predict\": 2}, {\"sepal length (cm)\": 6.5, \"sepal width (cm)\": 3.0, \"petal length (cm)\": 5.8, \"petal width (cm)\": 2.2, \"target\": 2, \"predict\": 2}, {\"sepal length (cm)\": 7.6, \"sepal width (cm)\": 3.0, \"petal length (cm)\": 6.6, \"petal width (cm)\": 2.1, \"target\": 2, \"predict\": 2}, {\"sepal length (cm)\": 4.9, \"sepal width (cm)\": 2.5, \"petal length (cm)\": 4.5, \"petal width (cm)\": 1.7, \"target\": 2, \"predict\": 1}, {\"sepal length (cm)\": 7.3, \"sepal width (cm)\": 2.9, \"petal length (cm)\": 6.3, \"petal width (cm)\": 1.8, \"target\": 2, \"predict\": 2}, {\"sepal length (cm)\": 6.7, \"sepal width (cm)\": 2.5, \"petal length (cm)\": 5.8, \"petal width (cm)\": 1.8, \"target\": 2, \"predict\": 2}, {\"sepal length (cm)\": 7.2, \"sepal width (cm)\": 3.6, \"petal length (cm)\": 6.1, \"petal width (cm)\": 2.5, \"target\": 2, \"predict\": 2}, {\"sepal length (cm)\": 6.5, \"sepal width (cm)\": 3.2, \"petal length (cm)\": 5.1, \"petal width (cm)\": 2.0, \"target\": 2, \"predict\": 2}, {\"sepal length (cm)\": 6.4, \"sepal width (cm)\": 2.7, \"petal length (cm)\": 5.3, \"petal width (cm)\": 1.9, \"target\": 2, \"predict\": 2}, {\"sepal length (cm)\": 6.8, \"sepal width (cm)\": 3.0, \"petal length (cm)\": 5.5, \"petal width (cm)\": 2.1, \"target\": 2, \"predict\": 2}, {\"sepal length (cm)\": 5.7, \"sepal width (cm)\": 2.5, \"petal length (cm)\": 5.0, \"petal width (cm)\": 2.0, \"target\": 2, \"predict\": 1}, {\"sepal length (cm)\": 5.8, \"sepal width (cm)\": 2.8, \"petal length (cm)\": 5.1, \"petal width (cm)\": 2.4, \"target\": 2, \"predict\": 1}, {\"sepal length (cm)\": 6.4, \"sepal width (cm)\": 3.2, \"petal length (cm)\": 5.3, \"petal width (cm)\": 2.3, \"target\": 2, \"predict\": 2}, {\"sepal length (cm)\": 6.5, \"sepal width (cm)\": 3.0, \"petal length (cm)\": 5.5, \"petal width (cm)\": 1.8, \"target\": 2, \"predict\": 2}, {\"sepal length (cm)\": 7.7, \"sepal width (cm)\": 3.8, \"petal length (cm)\": 6.7, \"petal width (cm)\": 2.2, \"target\": 2, \"predict\": 2}, {\"sepal length (cm)\": 7.7, \"sepal width (cm)\": 2.6, \"petal length (cm)\": 6.9, \"petal width (cm)\": 2.3, \"target\": 2, \"predict\": 2}, {\"sepal length (cm)\": 6.0, \"sepal width (cm)\": 2.2, \"petal length (cm)\": 5.0, \"petal width (cm)\": 1.5, \"target\": 2, \"predict\": 1}, {\"sepal length (cm)\": 6.9, \"sepal width (cm)\": 3.2, \"petal length (cm)\": 5.7, \"petal width (cm)\": 2.3, \"target\": 2, \"predict\": 2}, {\"sepal length (cm)\": 5.6, \"sepal width (cm)\": 2.8, \"petal length (cm)\": 4.9, \"petal width (cm)\": 2.0, \"target\": 2, \"predict\": 1}, {\"sepal length (cm)\": 7.7, \"sepal width (cm)\": 2.8, \"petal length (cm)\": 6.7, \"petal width (cm)\": 2.0, \"target\": 2, \"predict\": 2}, {\"sepal length (cm)\": 6.3, \"sepal width (cm)\": 2.7, \"petal length (cm)\": 4.9, \"petal width (cm)\": 1.8, \"target\": 2, \"predict\": 1}, {\"sepal length (cm)\": 6.7, \"sepal width (cm)\": 3.3, \"petal length (cm)\": 5.7, \"petal width (cm)\": 2.1, \"target\": 2, \"predict\": 2}, {\"sepal length (cm)\": 7.2, \"sepal width (cm)\": 3.2, \"petal length (cm)\": 6.0, \"petal width (cm)\": 1.8, \"target\": 2, \"predict\": 2}, {\"sepal length (cm)\": 6.2, \"sepal width (cm)\": 2.8, \"petal length (cm)\": 4.8, \"petal width (cm)\": 1.8, \"target\": 2, \"predict\": 1}, {\"sepal length (cm)\": 6.1, \"sepal width (cm)\": 3.0, \"petal length (cm)\": 4.9, \"petal width (cm)\": 1.8, \"target\": 2, \"predict\": 1}, {\"sepal length (cm)\": 6.4, \"sepal width (cm)\": 2.8, \"petal length (cm)\": 5.6, \"petal width (cm)\": 2.1, \"target\": 2, \"predict\": 2}, {\"sepal length (cm)\": 7.2, \"sepal width (cm)\": 3.0, \"petal length (cm)\": 5.8, \"petal width (cm)\": 1.6, \"target\": 2, \"predict\": 2}, {\"sepal length (cm)\": 7.4, \"sepal width (cm)\": 2.8, \"petal length (cm)\": 6.1, \"petal width (cm)\": 1.9, \"target\": 2, \"predict\": 2}, {\"sepal length (cm)\": 7.9, \"sepal width (cm)\": 3.8, \"petal length (cm)\": 6.4, \"petal width (cm)\": 2.0, \"target\": 2, \"predict\": 2}, {\"sepal length (cm)\": 6.4, \"sepal width (cm)\": 2.8, \"petal length (cm)\": 5.6, \"petal width (cm)\": 2.2, \"target\": 2, \"predict\": 2}, {\"sepal length (cm)\": 6.3, \"sepal width (cm)\": 2.8, \"petal length (cm)\": 5.1, \"petal width (cm)\": 1.5, \"target\": 2, \"predict\": 1}, {\"sepal length (cm)\": 6.1, \"sepal width (cm)\": 2.6, \"petal length (cm)\": 5.6, \"petal width (cm)\": 1.4, \"target\": 2, \"predict\": 2}, {\"sepal length (cm)\": 7.7, \"sepal width (cm)\": 3.0, \"petal length (cm)\": 6.1, \"petal width (cm)\": 2.3, \"target\": 2, \"predict\": 2}, {\"sepal length (cm)\": 6.3, \"sepal width (cm)\": 3.4, \"petal length (cm)\": 5.6, \"petal width (cm)\": 2.4, \"target\": 2, \"predict\": 2}, {\"sepal length (cm)\": 6.4, \"sepal width (cm)\": 3.1, \"petal length (cm)\": 5.5, \"petal width (cm)\": 1.8, \"target\": 2, \"predict\": 2}, {\"sepal length (cm)\": 6.0, \"sepal width (cm)\": 3.0, \"petal length (cm)\": 4.8, \"petal width (cm)\": 1.8, \"target\": 2, \"predict\": 1}, {\"sepal length (cm)\": 6.9, \"sepal width (cm)\": 3.1, \"petal length (cm)\": 5.4, \"petal width (cm)\": 2.1, \"target\": 2, \"predict\": 2}, {\"sepal length (cm)\": 6.7, \"sepal width (cm)\": 3.1, \"petal length (cm)\": 5.6, \"petal width (cm)\": 2.4, \"target\": 2, \"predict\": 2}, {\"sepal length (cm)\": 6.9, \"sepal width (cm)\": 3.1, \"petal length (cm)\": 5.1, \"petal width (cm)\": 2.3, \"target\": 2, \"predict\": 2}, {\"sepal length (cm)\": 5.8, \"sepal width (cm)\": 2.7, \"petal length (cm)\": 5.1, \"petal width (cm)\": 1.9, \"target\": 2, \"predict\": 1}, {\"sepal length (cm)\": 6.8, \"sepal width (cm)\": 3.2, \"petal length (cm)\": 5.9, \"petal width (cm)\": 2.3, \"target\": 2, \"predict\": 2}, {\"sepal length (cm)\": 6.7, \"sepal width (cm)\": 3.3, \"petal length (cm)\": 5.7, \"petal width (cm)\": 2.5, \"target\": 2, \"predict\": 2}, {\"sepal length (cm)\": 6.7, \"sepal width (cm)\": 3.0, \"petal length (cm)\": 5.2, \"petal width (cm)\": 2.3, \"target\": 2, \"predict\": 2}, {\"sepal length (cm)\": 6.3, \"sepal width (cm)\": 2.5, \"petal length (cm)\": 5.0, \"petal width (cm)\": 1.9, \"target\": 2, \"predict\": 1}, {\"sepal length (cm)\": 6.5, \"sepal width (cm)\": 3.0, \"petal length (cm)\": 5.2, \"petal width (cm)\": 2.0, \"target\": 2, \"predict\": 2}, {\"sepal length (cm)\": 6.2, \"sepal width (cm)\": 3.4, \"petal length (cm)\": 5.4, \"petal width (cm)\": 2.3, \"target\": 2, \"predict\": 2}, {\"sepal length (cm)\": 5.9, \"sepal width (cm)\": 3.0, \"petal length (cm)\": 5.1, \"petal width (cm)\": 1.8, \"target\": 2, \"predict\": 1}]}}, {\"mode\": \"vega-lite\"});\n",
       "</script>"
      ],
      "text/plain": [
       "alt.HConcatChart(...)"
      ]
     },
     "execution_count": 13,
     "metadata": {},
     "output_type": "execute_result"
    }
   ],
   "source": [
    "chart = alt.Chart(iris).mark_circle().encode(\n",
    "    alt.X('sepal length (cm)', scale=alt.Scale(zero=False)),\n",
    "    alt.Y('sepal width (cm)', scale=alt.Scale(zero=False))\n",
    ")\n",
    "\n",
    "chart.encode(color=\"target:N\").properties(title='Ground Truth') | \\\n",
    "    chart.encode(color=\"predict:N\").properties(title='KMeans-3 clusterer')"
   ]
  },
  {
   "cell_type": "markdown",
   "metadata": {},
   "source": [
    "## Supervised classification using decision trees\n",
    "\n",
    "Well, the result is not that great. Let's use a supervised classifier.\n",
    "\n",
    "First, split our data into training and test set."
   ]
  },
  {
   "cell_type": "code",
   "execution_count": 14,
   "metadata": {},
   "outputs": [
    {
     "name": "stdout",
     "output_type": "stream",
     "text": [
      "(150, 4) (120, 4) (30, 4)\n"
     ]
    }
   ],
   "source": [
    "import sklearn.model_selection\n",
    "\n",
    "data_train, data_test, target_train, target_test = sklearn.model_selection.train_test_split(\n",
    "    data.data, data.target, test_size=0.20, random_state = 5)\n",
    "\n",
    "print(data.data.shape, data_train.shape, data_test.shape)"
   ]
  },
  {
   "cell_type": "markdown",
   "metadata": {},
   "source": [
    "Now, we use a *DecisionTree* to learn a model and test our result."
   ]
  },
  {
   "cell_type": "code",
   "execution_count": 15,
   "metadata": {},
   "outputs": [
    {
     "name": "stdout",
     "output_type": "stream",
     "text": [
      "Prediction accuracy:  0.8666666666666667\n"
     ]
    }
   ],
   "source": [
    "from sklearn.tree import DecisionTreeClassifier\n",
    "\n",
    "instance = DecisionTreeClassifier()\n",
    "r = instance.fit(data_train, target_train)\n",
    "target_predict = instance.predict(data_test)\n",
    "\n",
    "from sklearn.metrics import accuracy_score\n",
    "print('Prediction accuracy: ', accuracy_score(target_predict, target_test))\n"
   ]
  },
  {
   "cell_type": "markdown",
   "metadata": {},
   "source": [
    "Pretty good, isn't it?"
   ]
  },
  {
   "cell_type": "markdown",
   "metadata": {},
   "source": [
    "## Dimension reduction using MDS and PCA\n",
    "\n",
    "If we go back to our K-Means example, the clustering doesn't really make sense. However, we are just looking at two out of four dimensions. So, we can't really see the real distances/similarities between items. Dimension reduction techniques reduce the number of dimensions, while preserving the inner structure of the higher dimensions. We take a look at two of them: Multi Dimensional Scaling (MDS) and Principal Component Analysis (PCA). "
   ]
  },
  {
   "cell_type": "code",
   "execution_count": 16,
   "metadata": {},
   "outputs": [
    {
     "data": {
      "text/html": [
       "\n",
       "<div id=\"altair-viz-16c645bd2d904840a7238c38f53ae620\"></div>\n",
       "<script type=\"text/javascript\">\n",
       "  (function(spec, embedOpt){\n",
       "    let outputDiv = document.currentScript.previousElementSibling;\n",
       "    if (outputDiv.id !== \"altair-viz-16c645bd2d904840a7238c38f53ae620\") {\n",
       "      outputDiv = document.getElementById(\"altair-viz-16c645bd2d904840a7238c38f53ae620\");\n",
       "    }\n",
       "    const paths = {\n",
       "      \"vega\": \"https://cdn.jsdelivr.net/npm//vega@5?noext\",\n",
       "      \"vega-lib\": \"https://cdn.jsdelivr.net/npm//vega-lib?noext\",\n",
       "      \"vega-lite\": \"https://cdn.jsdelivr.net/npm//vega-lite@4.8.1?noext\",\n",
       "      \"vega-embed\": \"https://cdn.jsdelivr.net/npm//vega-embed@6?noext\",\n",
       "    };\n",
       "\n",
       "    function loadScript(lib) {\n",
       "      return new Promise(function(resolve, reject) {\n",
       "        var s = document.createElement('script');\n",
       "        s.src = paths[lib];\n",
       "        s.async = true;\n",
       "        s.onload = () => resolve(paths[lib]);\n",
       "        s.onerror = () => reject(`Error loading script: ${paths[lib]}`);\n",
       "        document.getElementsByTagName(\"head\")[0].appendChild(s);\n",
       "      });\n",
       "    }\n",
       "\n",
       "    function showError(err) {\n",
       "      outputDiv.innerHTML = `<div class=\"error\" style=\"color:red;\">${err}</div>`;\n",
       "      throw err;\n",
       "    }\n",
       "\n",
       "    function displayChart(vegaEmbed) {\n",
       "      vegaEmbed(outputDiv, spec, embedOpt)\n",
       "        .catch(err => showError(`Javascript Error: ${err.message}<br>This usually means there's a typo in your chart specification. See the javascript console for the full traceback.`));\n",
       "    }\n",
       "\n",
       "    if(typeof define === \"function\" && define.amd) {\n",
       "      requirejs.config({paths});\n",
       "      require([\"vega-embed\"], displayChart, err => showError(`Error loading script: ${err.message}`));\n",
       "    } else if (typeof vegaEmbed === \"function\") {\n",
       "      displayChart(vegaEmbed);\n",
       "    } else {\n",
       "      loadScript(\"vega\")\n",
       "        .then(() => loadScript(\"vega-lite\"))\n",
       "        .then(() => loadScript(\"vega-embed\"))\n",
       "        .catch(showError)\n",
       "        .then(() => displayChart(vegaEmbed));\n",
       "    }\n",
       "  })({\"config\": {\"view\": {\"continuousWidth\": 400, \"continuousHeight\": 300}}, \"data\": {\"name\": \"data-c8bce800bd48ce6b22ce4b99d2e20bed\"}, \"mark\": \"point\", \"encoding\": {\"color\": {\"type\": \"nominal\", \"field\": \"target\"}, \"x\": {\"type\": \"quantitative\", \"field\": \"mds_x\"}, \"y\": {\"type\": \"quantitative\", \"field\": \"mds_y\"}}, \"$schema\": \"https://vega.github.io/schema/vega-lite/v4.8.1.json\", \"datasets\": {\"data-c8bce800bd48ce6b22ce4b99d2e20bed\": [{\"sepal length (cm)\": 5.1, \"sepal width (cm)\": 3.5, \"petal length (cm)\": 1.4, \"petal width (cm)\": 0.2, \"target\": 0, \"predict\": 0, \"mds_x\": 2.159195907845831, \"mds_y\": -1.6414023006590197}, {\"sepal length (cm)\": 4.9, \"sepal width (cm)\": 3.0, \"petal length (cm)\": 1.4, \"petal width (cm)\": 0.2, \"target\": 0, \"predict\": 0, \"mds_x\": 2.460008902956102, \"mds_y\": -1.189118421005897}, {\"sepal length (cm)\": 4.7, \"sepal width (cm)\": 3.2, \"petal length (cm)\": 1.3, \"petal width (cm)\": 0.2, \"target\": 0, \"predict\": 0, \"mds_x\": 2.5721416156787082, \"mds_y\": -1.3504663438535889}, {\"sepal length (cm)\": 4.6, \"sepal width (cm)\": 3.1, \"petal length (cm)\": 1.5, \"petal width (cm)\": 0.2, \"target\": 0, \"predict\": 0, \"mds_x\": 2.5454410502178666, \"mds_y\": -1.1027538445549556}, {\"sepal length (cm)\": 5.0, \"sepal width (cm)\": 3.6, \"petal length (cm)\": 1.4, \"petal width (cm)\": 0.2, \"target\": 0, \"predict\": 0, \"mds_x\": 2.1867896261991766, \"mds_y\": -1.6909419462137523}, {\"sepal length (cm)\": 5.4, \"sepal width (cm)\": 3.9, \"petal length (cm)\": 1.7, \"petal width (cm)\": 0.4, \"target\": 0, \"predict\": 0, \"mds_x\": 1.5719744100352038, \"mds_y\": -1.82542339359004}, {\"sepal length (cm)\": 4.6, \"sepal width (cm)\": 3.4, \"petal length (cm)\": 1.4, \"petal width (cm)\": 0.3, \"target\": 0, \"predict\": 0, \"mds_x\": 2.4963735907795206, \"mds_y\": -1.3876377165786342}, {\"sepal length (cm)\": 5.0, \"sepal width (cm)\": 3.4, \"petal length (cm)\": 1.5, \"petal width (cm)\": 0.2, \"target\": 0, \"predict\": 0, \"mds_x\": 2.1882495941065443, \"mds_y\": -1.475080079043102}, {\"sepal length (cm)\": 4.4, \"sepal width (cm)\": 2.9, \"petal length (cm)\": 1.4, \"petal width (cm)\": 0.2, \"target\": 0, \"predict\": 0, \"mds_x\": 2.7900529013237136, \"mds_y\": -0.9666123521075239}, {\"sepal length (cm)\": 4.9, \"sepal width (cm)\": 3.1, \"petal length (cm)\": 1.5, \"petal width (cm)\": 0.1, \"target\": 0, \"predict\": 0, \"mds_x\": 2.3825070995860824, \"mds_y\": -1.2368460036986564}, {\"sepal length (cm)\": 5.4, \"sepal width (cm)\": 3.7, \"petal length (cm)\": 1.5, \"petal width (cm)\": 0.2, \"target\": 0, \"predict\": 0, \"mds_x\": 1.8241408743826477, \"mds_y\": -1.8451172507914533}, {\"sepal length (cm)\": 4.8, \"sepal width (cm)\": 3.4, \"petal length (cm)\": 1.6, \"petal width (cm)\": 0.2, \"target\": 0, \"predict\": 0, \"mds_x\": 2.2498026694822313, \"mds_y\": -1.34532273008629}, {\"sepal length (cm)\": 4.8, \"sepal width (cm)\": 3.0, \"petal length (cm)\": 1.4, \"petal width (cm)\": 0.1, \"target\": 0, \"predict\": 0, \"mds_x\": 2.549289388017369, \"mds_y\": -1.1780490215333126}, {\"sepal length (cm)\": 4.3, \"sepal width (cm)\": 3.0, \"petal length (cm)\": 1.1, \"petal width (cm)\": 0.1, \"target\": 0, \"predict\": 0, \"mds_x\": 3.045045140600104, \"mds_y\": -1.2066853223985508}, {\"sepal length (cm)\": 5.8, \"sepal width (cm)\": 4.0, \"petal length (cm)\": 1.2, \"petal width (cm)\": 0.2, \"target\": 0, \"predict\": 0, \"mds_x\": 1.6607648863528282, \"mds_y\": -2.398327956296513}, {\"sepal length (cm)\": 5.7, \"sepal width (cm)\": 4.4, \"petal length (cm)\": 1.5, \"petal width (cm)\": 0.4, \"target\": 0, \"predict\": 0, \"mds_x\": 1.3498021063988697, \"mds_y\": -2.404891576139671}, {\"sepal length (cm)\": 5.4, \"sepal width (cm)\": 3.9, \"petal length (cm)\": 1.3, \"petal width (cm)\": 0.4, \"target\": 0, \"predict\": 0, \"mds_x\": 1.8339559396764344, \"mds_y\": -2.0684203979348075}, {\"sepal length (cm)\": 5.1, \"sepal width (cm)\": 3.5, \"petal length (cm)\": 1.4, \"petal width (cm)\": 0.3, \"target\": 0, \"predict\": 0, \"mds_x\": 2.126859057157977, \"mds_y\": -1.6251840467861325}, {\"sepal length (cm)\": 5.7, \"sepal width (cm)\": 3.8, \"petal length (cm)\": 1.7, \"petal width (cm)\": 0.3, \"target\": 0, \"predict\": 0, \"mds_x\": 1.4367367362874433, \"mds_y\": -1.8875386711547462}, {\"sepal length (cm)\": 5.1, \"sepal width (cm)\": 3.8, \"petal length (cm)\": 1.5, \"petal width (cm)\": 0.3, \"target\": 0, \"predict\": 0, \"mds_x\": 1.96102878839776, \"mds_y\": -1.7965229117882318}, {\"sepal length (cm)\": 5.4, \"sepal width (cm)\": 3.4, \"petal length (cm)\": 1.7, \"petal width (cm)\": 0.2, \"target\": 0, \"predict\": 0, \"mds_x\": 1.7842420548065947, \"mds_y\": -1.51147333392959}, {\"sepal length (cm)\": 5.1, \"sepal width (cm)\": 3.7, \"petal length (cm)\": 1.5, \"petal width (cm)\": 0.4, \"target\": 0, \"predict\": 0, \"mds_x\": 1.960605154086277, \"mds_y\": -1.7006419024739263}, {\"sepal length (cm)\": 4.6, \"sepal width (cm)\": 3.6, \"petal length (cm)\": 1.0, \"petal width (cm)\": 0.2, \"target\": 0, \"predict\": 0, \"mds_x\": 2.711910509380266, \"mds_y\": -1.796916454971102}, {\"sepal length (cm)\": 5.1, \"sepal width (cm)\": 3.3, \"petal length (cm)\": 1.7, \"petal width (cm)\": 0.5, \"target\": 0, \"predict\": 0, \"mds_x\": 1.931132835109974, \"mds_y\": -1.2588577179170657}, {\"sepal length (cm)\": 4.8, \"sepal width (cm)\": 3.4, \"petal length (cm)\": 1.9, \"petal width (cm)\": 0.2, \"target\": 0, \"predict\": 0, \"mds_x\": 2.070441387067727, \"mds_y\": -1.1206058636253704}, {\"sepal length (cm)\": 5.0, \"sepal width (cm)\": 3.0, \"petal length (cm)\": 1.6, \"petal width (cm)\": 0.2, \"target\": 0, \"predict\": 0, \"mds_x\": 2.269177883638773, \"mds_y\": -1.0896234213845044}, {\"sepal length (cm)\": 5.0, \"sepal width (cm)\": 3.4, \"petal length (cm)\": 1.6, \"petal width (cm)\": 0.4, \"target\": 0, \"predict\": 0, \"mds_x\": 2.060228608776036, \"mds_y\": -1.3747407992393967}, {\"sepal length (cm)\": 5.2, \"sepal width (cm)\": 3.5, \"petal length (cm)\": 1.5, \"petal width (cm)\": 0.2, \"target\": 0, \"predict\": 0, \"mds_x\": 2.03140707223466, \"mds_y\": -1.6155330787871494}, {\"sepal length (cm)\": 5.2, \"sepal width (cm)\": 3.4, \"petal length (cm)\": 1.4, \"petal width (cm)\": 0.2, \"target\": 0, \"predict\": 0, \"mds_x\": 2.1297059603696087, \"mds_y\": -1.6043069256376803}, {\"sepal length (cm)\": 4.7, \"sepal width (cm)\": 3.2, \"petal length (cm)\": 1.6, \"petal width (cm)\": 0.2, \"target\": 0, \"predict\": 0, \"mds_x\": 2.3785685109074177, \"mds_y\": -1.156753791561399}, {\"sepal length (cm)\": 4.8, \"sepal width (cm)\": 3.1, \"petal length (cm)\": 1.6, \"petal width (cm)\": 0.2, \"target\": 0, \"predict\": 0, \"mds_x\": 2.3440772230243985, \"mds_y\": -1.1249987572933315}, {\"sepal length (cm)\": 5.4, \"sepal width (cm)\": 3.4, \"petal length (cm)\": 1.5, \"petal width (cm)\": 0.4, \"target\": 0, \"predict\": 0, \"mds_x\": 1.8529575881469094, \"mds_y\": -1.5961719032549275}, {\"sepal length (cm)\": 5.2, \"sepal width (cm)\": 4.1, \"petal length (cm)\": 1.5, \"petal width (cm)\": 0.1, \"target\": 0, \"predict\": 0, \"mds_x\": 1.8298550667863251, \"mds_y\": -2.1323650290423073}, {\"sepal length (cm)\": 5.5, \"sepal width (cm)\": 4.2, \"petal length (cm)\": 1.4, \"petal width (cm)\": 0.2, \"target\": 0, \"predict\": 0, \"mds_x\": 1.6704841368229533, \"mds_y\": -2.2887888806580414}, {\"sepal length (cm)\": 4.9, \"sepal width (cm)\": 3.1, \"petal length (cm)\": 1.5, \"petal width (cm)\": 0.2, \"target\": 0, \"predict\": 0, \"mds_x\": 2.3471054246550787, \"mds_y\": -1.2217771390708143}, {\"sepal length (cm)\": 5.0, \"sepal width (cm)\": 3.2, \"petal length (cm)\": 1.2, \"petal width (cm)\": 0.2, \"target\": 0, \"predict\": 0, \"mds_x\": 2.4575451351346294, \"mds_y\": -1.523704275154405}, {\"sepal length (cm)\": 5.5, \"sepal width (cm)\": 3.5, \"petal length (cm)\": 1.3, \"petal width (cm)\": 0.2, \"target\": 0, \"predict\": 0, \"mds_x\": 1.939821269138361, \"mds_y\": -1.918812957578318}, {\"sepal length (cm)\": 4.9, \"sepal width (cm)\": 3.6, \"petal length (cm)\": 1.4, \"petal width (cm)\": 0.1, \"target\": 0, \"predict\": 0, \"mds_x\": 2.2836801007743284, \"mds_y\": -1.6874056206242791}, {\"sepal length (cm)\": 4.4, \"sepal width (cm)\": 3.0, \"petal length (cm)\": 1.3, \"petal width (cm)\": 0.2, \"target\": 0, \"predict\": 0, \"mds_x\": 2.8277305779214617, \"mds_y\": -1.0945546929343788}, {\"sepal length (cm)\": 5.1, \"sepal width (cm)\": 3.4, \"petal length (cm)\": 1.5, \"petal width (cm)\": 0.2, \"target\": 0, \"predict\": 0, \"mds_x\": 2.1265124174400456, \"mds_y\": -1.509072849846276}, {\"sepal length (cm)\": 5.0, \"sepal width (cm)\": 3.5, \"petal length (cm)\": 1.3, \"petal width (cm)\": 0.3, \"target\": 0, \"predict\": 0, \"mds_x\": 2.2600759484832262, \"mds_y\": -1.6482237476267567}, {\"sepal length (cm)\": 4.5, \"sepal width (cm)\": 2.3, \"petal length (cm)\": 1.3, \"petal width (cm)\": 0.3, \"target\": 0, \"predict\": 0, \"mds_x\": 2.995945983581146, \"mds_y\": -0.5457466594617171}, {\"sepal length (cm)\": 4.4, \"sepal width (cm)\": 3.2, \"petal length (cm)\": 1.3, \"petal width (cm)\": 0.2, \"target\": 0, \"predict\": 0, \"mds_x\": 2.7813373157533903, \"mds_y\": -1.2316704889486405}, {\"sepal length (cm)\": 5.0, \"sepal width (cm)\": 3.5, \"petal length (cm)\": 1.6, \"petal width (cm)\": 0.6, \"target\": 0, \"predict\": 0, \"mds_x\": 1.957510375238926, \"mds_y\": -1.4069594684643336}, {\"sepal length (cm)\": 5.1, \"sepal width (cm)\": 3.8, \"petal length (cm)\": 1.9, \"petal width (cm)\": 0.4, \"target\": 0, \"predict\": 0, \"mds_x\": 1.6201466272847802, \"mds_y\": -1.5747486182226338}, {\"sepal length (cm)\": 4.8, \"sepal width (cm)\": 3.0, \"petal length (cm)\": 1.4, \"petal width (cm)\": 0.3, \"target\": 0, \"predict\": 0, \"mds_x\": 2.4900892486088053, \"mds_y\": -1.1319942772402496}, {\"sepal length (cm)\": 5.1, \"sepal width (cm)\": 3.8, \"petal length (cm)\": 1.6, \"petal width (cm)\": 0.2, \"target\": 0, \"predict\": 0, \"mds_x\": 1.9110969755298457, \"mds_y\": -1.76980480290241}, {\"sepal length (cm)\": 4.6, \"sepal width (cm)\": 3.2, \"petal length (cm)\": 1.4, \"petal width (cm)\": 0.2, \"target\": 0, \"predict\": 0, \"mds_x\": 2.576638983515084, \"mds_y\": -1.2550851800697478}, {\"sepal length (cm)\": 5.3, \"sepal width (cm)\": 3.7, \"petal length (cm)\": 1.5, \"petal width (cm)\": 0.2, \"target\": 0, \"predict\": 0, \"mds_x\": 1.8915285474418193, \"mds_y\": -1.8064926901688394}, {\"sepal length (cm)\": 5.0, \"sepal width (cm)\": 3.3, \"petal length (cm)\": 1.4, \"petal width (cm)\": 0.2, \"target\": 0, \"predict\": 0, \"mds_x\": 2.285570086505062, \"mds_y\": -1.4649484173499012}, {\"sepal length (cm)\": 7.0, \"sepal width (cm)\": 3.2, \"petal length (cm)\": 4.7, \"petal width (cm)\": 1.4, \"target\": 1, \"predict\": 1, \"mds_x\": -1.4612145510726369, \"mds_y\": -0.033231190815831015}, {\"sepal length (cm)\": 6.4, \"sepal width (cm)\": 3.2, \"petal length (cm)\": 4.5, \"petal width (cm)\": 1.5, \"target\": 1, \"predict\": 1, \"mds_x\": -0.9448533862748946, \"mds_y\": 0.19925233063205958}, {\"sepal length (cm)\": 6.9, \"sepal width (cm)\": 3.1, \"petal length (cm)\": 4.9, \"petal width (cm)\": 1.5, \"target\": 1, \"predict\": 2, \"mds_x\": -1.5167709095948319, \"mds_y\": 0.22077669892443616}, {\"sepal length (cm)\": 5.5, \"sepal width (cm)\": 2.3, \"petal length (cm)\": 4.0, \"petal width (cm)\": 1.3, \"target\": 1, \"predict\": 1, \"mds_x\": 0.28985219071430157, \"mds_y\": 0.8017680765528807}, {\"sepal length (cm)\": 6.5, \"sepal width (cm)\": 2.8, \"petal length (cm)\": 4.6, \"petal width (cm)\": 1.5, \"target\": 1, \"predict\": 1, \"mds_x\": -0.9881654145496502, \"mds_y\": 0.41481361484459706}, {\"sepal length (cm)\": 5.7, \"sepal width (cm)\": 2.8, \"petal length (cm)\": 4.5, \"petal width (cm)\": 1.3, \"target\": 1, \"predict\": 1, \"mds_x\": -0.3271447981759577, \"mds_y\": 0.6787491360348653}, {\"sepal length (cm)\": 6.3, \"sepal width (cm)\": 3.3, \"petal length (cm)\": 4.7, \"petal width (cm)\": 1.6, \"target\": 1, \"predict\": 1, \"mds_x\": -1.0772814424385155, \"mds_y\": 0.3233557019949809}, {\"sepal length (cm)\": 4.9, \"sepal width (cm)\": 2.4, \"petal length (cm)\": 3.3, \"petal width (cm)\": 1.0, \"target\": 1, \"predict\": 1, \"mds_x\": 1.1651294072290548, \"mds_y\": 0.469145030364024}, {\"sepal length (cm)\": 6.6, \"sepal width (cm)\": 2.9, \"petal length (cm)\": 4.6, \"petal width (cm)\": 1.3, \"target\": 1, \"predict\": 1, \"mds_x\": -1.0438134533886658, \"mds_y\": 0.20606013424925898}, {\"sepal length (cm)\": 5.2, \"sepal width (cm)\": 2.7, \"petal length (cm)\": 3.9, \"petal width (cm)\": 1.4, \"target\": 1, \"predict\": 1, \"mds_x\": 0.4177590285089092, \"mds_y\": 0.658078352375014}, {\"sepal length (cm)\": 5.0, \"sepal width (cm)\": 2.0, \"petal length (cm)\": 3.5, \"petal width (cm)\": 1.0, \"target\": 1, \"predict\": 1, \"mds_x\": 1.1092752714182867, \"mds_y\": 0.8437032752490716}, {\"sepal length (cm)\": 5.9, \"sepal width (cm)\": 3.0, \"petal length (cm)\": 4.2, \"petal width (cm)\": 1.5, \"target\": 1, \"predict\": 1, \"mds_x\": -0.3932135561201032, \"mds_y\": 0.3156951153749653}, {\"sepal length (cm)\": 6.0, \"sepal width (cm)\": 2.2, \"petal length (cm)\": 4.0, \"petal width (cm)\": 1.0, \"target\": 1, \"predict\": 1, \"mds_x\": 0.24645763748521013, \"mds_y\": 0.9037571530774499}, {\"sepal length (cm)\": 6.1, \"sepal width (cm)\": 2.9, \"petal length (cm)\": 4.7, \"petal width (cm)\": 1.4, \"target\": 1, \"predict\": 1, \"mds_x\": -0.7643799336865832, \"mds_y\": 0.607528930346631}, {\"sepal length (cm)\": 5.6, \"sepal width (cm)\": 2.9, \"petal length (cm)\": 3.6, \"petal width (cm)\": 1.3, \"target\": 1, \"predict\": 1, \"mds_x\": 0.2626697794327772, \"mds_y\": 0.06462636324932867}, {\"sepal length (cm)\": 6.7, \"sepal width (cm)\": 3.1, \"petal length (cm)\": 4.4, \"petal width (cm)\": 1.4, \"target\": 1, \"predict\": 1, \"mds_x\": -1.0480363924031888, \"mds_y\": -0.01987540889335866}, {\"sepal length (cm)\": 5.6, \"sepal width (cm)\": 3.0, \"petal length (cm)\": 4.5, \"petal width (cm)\": 1.5, \"target\": 1, \"predict\": 1, \"mds_x\": -0.3740256012078777, \"mds_y\": 0.6621627907375907}, {\"sepal length (cm)\": 5.8, \"sepal width (cm)\": 2.7, \"petal length (cm)\": 4.1, \"petal width (cm)\": 1.0, \"target\": 1, \"predict\": 1, \"mds_x\": 0.0046537300120276905, \"mds_y\": 0.4110544109829778}, {\"sepal length (cm)\": 6.2, \"sepal width (cm)\": 2.2, \"petal length (cm)\": 4.5, \"petal width (cm)\": 1.5, \"target\": 1, \"predict\": 1, \"mds_x\": -0.41634759084772804, \"mds_y\": 1.1458486759501094}, {\"sepal length (cm)\": 5.6, \"sepal width (cm)\": 2.5, \"petal length (cm)\": 3.9, \"petal width (cm)\": 1.1, \"target\": 1, \"predict\": 1, \"mds_x\": 0.278752424048784, \"mds_y\": 0.5107009930943402}, {\"sepal length (cm)\": 5.9, \"sepal width (cm)\": 3.2, \"petal length (cm)\": 4.8, \"petal width (cm)\": 1.8, \"target\": 1, \"predict\": 1, \"mds_x\": -0.9422462223461058, \"mds_y\": 0.6354731688102437}, {\"sepal length (cm)\": 6.1, \"sepal width (cm)\": 2.8, \"petal length (cm)\": 4.0, \"petal width (cm)\": 1.3, \"target\": 1, \"predict\": 1, \"mds_x\": -0.28673120578699607, \"mds_y\": 0.16173107864013267}, {\"sepal length (cm)\": 6.3, \"sepal width (cm)\": 2.5, \"petal length (cm)\": 4.9, \"petal width (cm)\": 1.5, \"target\": 1, \"predict\": 1, \"mds_x\": -0.9031580387686525, \"mds_y\": 0.9961232806455667}, {\"sepal length (cm)\": 6.1, \"sepal width (cm)\": 2.8, \"petal length (cm)\": 4.7, \"petal width (cm)\": 1.2, \"target\": 1, \"predict\": 1, \"mds_x\": -0.6547885408558877, \"mds_y\": 0.6651506085559915}, {\"sepal length (cm)\": 6.4, \"sepal width (cm)\": 2.9, \"petal length (cm)\": 4.3, \"petal width (cm)\": 1.3, \"target\": 1, \"predict\": 1, \"mds_x\": -0.6902948337858429, \"mds_y\": 0.16605539210673903}, {\"sepal length (cm)\": 6.6, \"sepal width (cm)\": 3.0, \"petal length (cm)\": 4.4, \"petal width (cm)\": 1.4, \"target\": 1, \"predict\": 1, \"mds_x\": -0.959128862866311, \"mds_y\": 0.07766102600596105}, {\"sepal length (cm)\": 6.8, \"sepal width (cm)\": 2.8, \"petal length (cm)\": 4.8, \"petal width (cm)\": 1.4, \"target\": 1, \"predict\": 1, \"mds_x\": -1.3271022767772467, \"mds_y\": 0.2800513174989292}, {\"sepal length (cm)\": 6.7, \"sepal width (cm)\": 3.0, \"petal length (cm)\": 5.0, \"petal width (cm)\": 1.7, \"target\": 1, \"predict\": 2, \"mds_x\": -1.4581285838348121, \"mds_y\": 0.5708770855561217}, {\"sepal length (cm)\": 6.0, \"sepal width (cm)\": 2.9, \"petal length (cm)\": 4.5, \"petal width (cm)\": 1.5, \"target\": 1, \"predict\": 1, \"mds_x\": -0.6135692672455468, \"mds_y\": 0.535536982258575}, {\"sepal length (cm)\": 5.7, \"sepal width (cm)\": 2.6, \"petal length (cm)\": 3.5, \"petal width (cm)\": 1.0, \"target\": 1, \"predict\": 1, \"mds_x\": 0.48516624301121597, \"mds_y\": 0.16605910486697836}, {\"sepal length (cm)\": 5.5, \"sepal width (cm)\": 2.4, \"petal length (cm)\": 3.8, \"petal width (cm)\": 1.1, \"target\": 1, \"predict\": 1, \"mds_x\": 0.44140329507750914, \"mds_y\": 0.5592198961631314}, {\"sepal length (cm)\": 5.5, \"sepal width (cm)\": 2.4, \"petal length (cm)\": 3.7, \"petal width (cm)\": 1.0, \"target\": 1, \"predict\": 1, \"mds_x\": 0.5452880213444946, \"mds_y\": 0.4974884310199118}, {\"sepal length (cm)\": 5.8, \"sepal width (cm)\": 2.7, \"petal length (cm)\": 3.9, \"petal width (cm)\": 1.2, \"target\": 1, \"predict\": 1, \"mds_x\": 0.05811799566642715, \"mds_y\": 0.31605956562738224}, {\"sepal length (cm)\": 6.0, \"sepal width (cm)\": 2.7, \"petal length (cm)\": 5.1, \"petal width (cm)\": 1.6, \"target\": 1, \"predict\": 1, \"mds_x\": -0.9677373178153076, \"mds_y\": 1.0703419133073093}, {\"sepal length (cm)\": 5.4, \"sepal width (cm)\": 3.0, \"petal length (cm)\": 4.5, \"petal width (cm)\": 1.5, \"target\": 1, \"predict\": 1, \"mds_x\": -0.19683646062584584, \"mds_y\": 0.8430905978547948}, {\"sepal length (cm)\": 6.0, \"sepal width (cm)\": 3.4, \"petal length (cm)\": 4.5, \"petal width (cm)\": 1.6, \"target\": 1, \"predict\": 1, \"mds_x\": -0.8204249793009166, \"mds_y\": 0.13308626308730206}, {\"sepal length (cm)\": 6.7, \"sepal width (cm)\": 3.1, \"petal length (cm)\": 4.7, \"petal width (cm)\": 1.5, \"target\": 1, \"predict\": 1, \"mds_x\": -1.253514350852989, \"mds_y\": 0.21742661697283852}, {\"sepal length (cm)\": 6.3, \"sepal width (cm)\": 2.3, \"petal length (cm)\": 4.4, \"petal width (cm)\": 1.3, \"target\": 1, \"predict\": 1, \"mds_x\": -0.3503530052616813, \"mds_y\": 1.017995609171968}, {\"sepal length (cm)\": 5.6, \"sepal width (cm)\": 3.0, \"petal length (cm)\": 4.1, \"petal width (cm)\": 1.3, \"target\": 1, \"predict\": 1, \"mds_x\": -0.09550645003652306, \"mds_y\": 0.2848551415425349}, {\"sepal length (cm)\": 5.5, \"sepal width (cm)\": 2.5, \"petal length (cm)\": 4.0, \"petal width (cm)\": 1.3, \"target\": 1, \"predict\": 1, \"mds_x\": 0.20940075194731383, \"mds_y\": 0.6428336982781065}, {\"sepal length (cm)\": 5.5, \"sepal width (cm)\": 2.6, \"petal length (cm)\": 4.4, \"petal width (cm)\": 1.2, \"target\": 1, \"predict\": 1, \"mds_x\": -0.03620974048281242, \"mds_y\": 0.8237992788048757}, {\"sepal length (cm)\": 6.1, \"sepal width (cm)\": 3.0, \"petal length (cm)\": 4.6, \"petal width (cm)\": 1.4, \"target\": 1, \"predict\": 1, \"mds_x\": -0.7308910879242706, \"mds_y\": 0.4843564187231344}, {\"sepal length (cm)\": 5.8, \"sepal width (cm)\": 2.6, \"petal length (cm)\": 4.0, \"petal width (cm)\": 1.2, \"target\": 1, \"predict\": 1, \"mds_x\": 0.037101977087781644, \"mds_y\": 0.46450554988636433}, {\"sepal length (cm)\": 5.0, \"sepal width (cm)\": 2.3, \"petal length (cm)\": 3.3, \"petal width (cm)\": 1.0, \"target\": 1, \"predict\": 1, \"mds_x\": 1.13307076555784, \"mds_y\": 0.5054946386157878}, {\"sepal length (cm)\": 5.6, \"sepal width (cm)\": 2.7, \"petal length (cm)\": 4.2, \"petal width (cm)\": 1.3, \"target\": 1, \"predict\": 1, \"mds_x\": -0.05224184543308071, \"mds_y\": 0.5866249588143502}, {\"sepal length (cm)\": 5.7, \"sepal width (cm)\": 3.0, \"petal length (cm)\": 4.2, \"petal width (cm)\": 1.2, \"target\": 1, \"predict\": 1, \"mds_x\": -0.179961069589745, \"mds_y\": 0.31486963664243145}, {\"sepal length (cm)\": 5.7, \"sepal width (cm)\": 2.9, \"petal length (cm)\": 4.2, \"petal width (cm)\": 1.3, \"target\": 1, \"predict\": 1, \"mds_x\": -0.17912009523223066, \"mds_y\": 0.4143324049031065}, {\"sepal length (cm)\": 6.2, \"sepal width (cm)\": 2.9, \"petal length (cm)\": 4.3, \"petal width (cm)\": 1.3, \"target\": 1, \"predict\": 1, \"mds_x\": -0.5560546825340009, \"mds_y\": 0.2777023781153169}, {\"sepal length (cm)\": 5.1, \"sepal width (cm)\": 2.5, \"petal length (cm)\": 3.0, \"petal width (cm)\": 1.1, \"target\": 1, \"predict\": 1, \"mds_x\": 1.184296512788948, \"mds_y\": 0.18646432842169086}, {\"sepal length (cm)\": 5.7, \"sepal width (cm)\": 2.8, \"petal length (cm)\": 4.1, \"petal width (cm)\": 1.3, \"target\": 1, \"predict\": 1, \"mds_x\": -0.08517907964855716, \"mds_y\": 0.418988593683617}, {\"sepal length (cm)\": 6.3, \"sepal width (cm)\": 3.3, \"petal length (cm)\": 6.0, \"petal width (cm)\": 2.5, \"target\": 2, \"predict\": 2, \"mds_x\": -2.5306626550221694, \"mds_y\": 0.6115436164787817}, {\"sepal length (cm)\": 5.8, \"sepal width (cm)\": 2.7, \"petal length (cm)\": 5.1, \"petal width (cm)\": 1.9, \"target\": 2, \"predict\": 1, \"mds_x\": -0.9314723045304905, \"mds_y\": 1.2404132252650464}, {\"sepal length (cm)\": 7.1, \"sepal width (cm)\": 3.0, \"petal length (cm)\": 5.9, \"petal width (cm)\": 2.1, \"target\": 2, \"predict\": 2, \"mds_x\": -2.3873048877389347, \"mds_y\": 1.1858600858368602}, {\"sepal length (cm)\": 6.3, \"sepal width (cm)\": 2.9, \"petal length (cm)\": 5.6, \"petal width (cm)\": 1.8, \"target\": 2, \"predict\": 2, \"mds_x\": -1.5821944364903973, \"mds_y\": 1.2115987306012608}, {\"sepal length (cm)\": 6.5, \"sepal width (cm)\": 3.0, \"petal length (cm)\": 5.8, \"petal width (cm)\": 2.2, \"target\": 2, \"predict\": 2, \"mds_x\": -2.0478330507401172, \"mds_y\": 1.150181562088159}, {\"sepal length (cm)\": 7.6, \"sepal width (cm)\": 3.0, \"petal length (cm)\": 6.6, \"petal width (cm)\": 2.1, \"target\": 2, \"predict\": 2, \"mds_x\": -3.1179516688488476, \"mds_y\": 1.5779710406955039}, {\"sepal length (cm)\": 4.9, \"sepal width (cm)\": 2.5, \"petal length (cm)\": 4.5, \"petal width (cm)\": 1.7, \"target\": 2, \"predict\": 1, \"mds_x\": 0.22412513174631343, \"mds_y\": 1.424822661791278}, {\"sepal length (cm)\": 7.3, \"sepal width (cm)\": 2.9, \"petal length (cm)\": 6.3, \"petal width (cm)\": 1.8, \"target\": 2, \"predict\": 2, \"mds_x\": -2.578853170520217, \"mds_y\": 1.6120065215063883}, {\"sepal length (cm)\": 6.7, \"sepal width (cm)\": 2.5, \"petal length (cm)\": 5.8, \"petal width (cm)\": 1.8, \"target\": 2, \"predict\": 2, \"mds_x\": -1.788630021686014, \"mds_y\": 1.5652608485751554}, {\"sepal length (cm)\": 7.2, \"sepal width (cm)\": 3.6, \"petal length (cm)\": 6.1, \"petal width (cm)\": 2.5, \"target\": 2, \"predict\": 2, \"mds_x\": -2.9717260720237837, \"mds_y\": 0.7341271962421377}, {\"sepal length (cm)\": 6.5, \"sepal width (cm)\": 3.2, \"petal length (cm)\": 5.1, \"petal width (cm)\": 2.0, \"target\": 2, \"predict\": 2, \"mds_x\": -1.5763661549815413, \"mds_y\": 0.636693951725506}, {\"sepal length (cm)\": 6.4, \"sepal width (cm)\": 2.7, \"petal length (cm)\": 5.3, \"petal width (cm)\": 1.9, \"target\": 2, \"predict\": 2, \"mds_x\": -1.4436855793663992, \"mds_y\": 1.089814579238779}, {\"sepal length (cm)\": 6.8, \"sepal width (cm)\": 3.0, \"petal length (cm)\": 5.5, \"petal width (cm)\": 2.1, \"target\": 2, \"predict\": 2, \"mds_x\": -1.9722726587121047, \"mds_y\": 0.9403810041922233}, {\"sepal length (cm)\": 5.7, \"sepal width (cm)\": 2.5, \"petal length (cm)\": 5.0, \"petal width (cm)\": 2.0, \"target\": 2, \"predict\": 1, \"mds_x\": -0.7686834760057486, \"mds_y\": 1.389916398634182}, {\"sepal length (cm)\": 5.8, \"sepal width (cm)\": 2.8, \"petal length (cm)\": 5.1, \"petal width (cm)\": 2.4, \"target\": 2, \"predict\": 1, \"mds_x\": -1.661724840418631, \"mds_y\": 0.2515498747510872}, {\"sepal length (cm)\": 6.4, \"sepal width (cm)\": 3.2, \"petal length (cm)\": 5.3, \"petal width (cm)\": 2.3, \"target\": 2, \"predict\": 2, \"mds_x\": -1.836843606257043, \"mds_y\": 0.6588658535015015}, {\"sepal length (cm)\": 6.5, \"sepal width (cm)\": 3.0, \"petal length (cm)\": 5.5, \"petal width (cm)\": 1.8, \"target\": 2, \"predict\": 2, \"mds_x\": -1.6728256458516222, \"mds_y\": 1.0169946158078829}, {\"sepal length (cm)\": 7.7, \"sepal width (cm)\": 3.8, \"petal length (cm)\": 6.7, \"petal width (cm)\": 2.2, \"target\": 2, \"predict\": 2, \"mds_x\": -3.6190465939607592, \"mds_y\": 0.8778508404723082}, {\"sepal length (cm)\": 7.7, \"sepal width (cm)\": 2.6, \"petal length (cm)\": 6.9, \"petal width (cm)\": 2.3, \"target\": 2, \"predict\": 2, \"mds_x\": -3.2742607378716264, \"mds_y\": 2.0512545100653665}, {\"sepal length (cm)\": 6.0, \"sepal width (cm)\": 2.2, \"petal length (cm)\": 5.0, \"petal width (cm)\": 1.5, \"target\": 2, \"predict\": 1, \"mds_x\": -0.6679446240204098, \"mds_y\": 1.4042317238771183}, {\"sepal length (cm)\": 6.9, \"sepal width (cm)\": 3.2, \"petal length (cm)\": 5.7, \"petal width (cm)\": 2.3, \"target\": 2, \"predict\": 2, \"mds_x\": -2.3158102600658945, \"mds_y\": 0.881504090079262}, {\"sepal length (cm)\": 5.6, \"sepal width (cm)\": 2.8, \"petal length (cm)\": 4.9, \"petal width (cm)\": 2.0, \"target\": 2, \"predict\": 1, \"mds_x\": -0.6937756680930502, \"mds_y\": 1.25530253530407}, {\"sepal length (cm)\": 7.7, \"sepal width (cm)\": 2.8, \"petal length (cm)\": 6.7, \"petal width (cm)\": 2.0, \"target\": 2, \"predict\": 2, \"mds_x\": -3.1248508742604626, \"mds_y\": 1.821017297395879}, {\"sepal length (cm)\": 6.3, \"sepal width (cm)\": 2.7, \"petal length (cm)\": 4.9, \"petal width (cm)\": 1.8, \"target\": 2, \"predict\": 1, \"mds_x\": -1.1076590719402921, \"mds_y\": 0.8533117629761672}, {\"sepal length (cm)\": 6.7, \"sepal width (cm)\": 3.3, \"petal length (cm)\": 5.7, \"petal width (cm)\": 2.1, \"target\": 2, \"predict\": 2, \"mds_x\": -2.1508183826590983, \"mds_y\": 0.8795365067722365}, {\"sepal length (cm)\": 7.2, \"sepal width (cm)\": 3.2, \"petal length (cm)\": 6.0, \"petal width (cm)\": 1.8, \"target\": 2, \"predict\": 2, \"mds_x\": -2.4440734788003886, \"mds_y\": 1.259935437483166}, {\"sepal length (cm)\": 6.2, \"sepal width (cm)\": 2.8, \"petal length (cm)\": 4.8, \"petal width (cm)\": 1.8, \"target\": 2, \"predict\": 1, \"mds_x\": -1.0049968068437654, \"mds_y\": 0.7765342224574813}, {\"sepal length (cm)\": 6.1, \"sepal width (cm)\": 3.0, \"petal length (cm)\": 4.9, \"petal width (cm)\": 1.8, \"target\": 2, \"predict\": 1, \"mds_x\": -1.070578706120904, \"mds_y\": 0.7405847942523203}, {\"sepal length (cm)\": 6.4, \"sepal width (cm)\": 2.8, \"petal length (cm)\": 5.6, \"petal width (cm)\": 2.1, \"target\": 2, \"predict\": 2, \"mds_x\": -1.7416403308495467, \"mds_y\": 1.2188202612433876}, {\"sepal length (cm)\": 7.2, \"sepal width (cm)\": 3.0, \"petal length (cm)\": 5.8, \"petal width (cm)\": 1.6, \"target\": 2, \"predict\": 2, \"mds_x\": -2.1201103029950366, \"mds_y\": 1.4304934090954868}, {\"sepal length (cm)\": 7.4, \"sepal width (cm)\": 2.8, \"petal length (cm)\": 6.1, \"petal width (cm)\": 1.9, \"target\": 2, \"predict\": 2, \"mds_x\": -2.5100687372739827, \"mds_y\": 1.565910926038844}, {\"sepal length (cm)\": 7.9, \"sepal width (cm)\": 3.8, \"petal length (cm)\": 6.4, \"petal width (cm)\": 2.0, \"target\": 2, \"predict\": 2, \"mds_x\": -3.509226161576953, \"mds_y\": 0.5745439288520163}, {\"sepal length (cm)\": 6.4, \"sepal width (cm)\": 2.8, \"petal length (cm)\": 5.6, \"petal width (cm)\": 2.2, \"target\": 2, \"predict\": 2, \"mds_x\": -1.7849583950075325, \"mds_y\": 1.2278078836523667}, {\"sepal length (cm)\": 6.3, \"sepal width (cm)\": 2.8, \"petal length (cm)\": 5.1, \"petal width (cm)\": 1.5, \"target\": 2, \"predict\": 1, \"mds_x\": -1.1593462548236744, \"mds_y\": 0.8815929653585453}, {\"sepal length (cm)\": 6.1, \"sepal width (cm)\": 2.6, \"petal length (cm)\": 5.6, \"petal width (cm)\": 1.4, \"target\": 2, \"predict\": 2, \"mds_x\": -1.1964215913348153, \"mds_y\": 1.5372914095229835}, {\"sepal length (cm)\": 7.7, \"sepal width (cm)\": 3.0, \"petal length (cm)\": 6.1, \"petal width (cm)\": 2.3, \"target\": 2, \"predict\": 2, \"mds_x\": -2.982111679072791, \"mds_y\": 1.2398695673396234}, {\"sepal length (cm)\": 6.3, \"sepal width (cm)\": 3.4, \"petal length (cm)\": 5.6, \"petal width (cm)\": 2.4, \"target\": 2, \"predict\": 2, \"mds_x\": -2.185306980141586, \"mds_y\": 0.4984647190859155}, {\"sepal length (cm)\": 6.4, \"sepal width (cm)\": 3.1, \"petal length (cm)\": 5.5, \"petal width (cm)\": 1.8, \"target\": 2, \"predict\": 2, \"mds_x\": -1.649393939742091, \"mds_y\": 0.9850440686467618}, {\"sepal length (cm)\": 6.0, \"sepal width (cm)\": 3.0, \"petal length (cm)\": 4.8, \"petal width (cm)\": 1.8, \"target\": 2, \"predict\": 1, \"mds_x\": -0.9331544507898674, \"mds_y\": 0.73759913313556}, {\"sepal length (cm)\": 6.9, \"sepal width (cm)\": 3.1, \"petal length (cm)\": 5.4, \"petal width (cm)\": 2.1, \"target\": 2, \"predict\": 2, \"mds_x\": -2.003674360125472, \"mds_y\": 0.7963269901417561}, {\"sepal length (cm)\": 6.7, \"sepal width (cm)\": 3.1, \"petal length (cm)\": 5.6, \"petal width (cm)\": 2.4, \"target\": 2, \"predict\": 2, \"mds_x\": -2.189581909576165, \"mds_y\": 0.8394566130375688}, {\"sepal length (cm)\": 6.9, \"sepal width (cm)\": 3.1, \"petal length (cm)\": 5.1, \"petal width (cm)\": 2.3, \"target\": 2, \"predict\": 2, \"mds_x\": -1.9623954690168592, \"mds_y\": 0.47993258826379126}, {\"sepal length (cm)\": 5.8, \"sepal width (cm)\": 2.7, \"petal length (cm)\": 5.1, \"petal width (cm)\": 1.9, \"target\": 2, \"predict\": 1, \"mds_x\": -0.9314723045269683, \"mds_y\": 1.2404132252704618}, {\"sepal length (cm)\": 6.8, \"sepal width (cm)\": 3.2, \"petal length (cm)\": 5.9, \"petal width (cm)\": 2.3, \"target\": 2, \"predict\": 2, \"mds_x\": -2.4037549791610733, \"mds_y\": 0.9671316867733369}, {\"sepal length (cm)\": 6.7, \"sepal width (cm)\": 3.3, \"petal length (cm)\": 5.7, \"petal width (cm)\": 2.5, \"target\": 2, \"predict\": 2, \"mds_x\": -2.3805089163631656, \"mds_y\": 0.7162498891887031}, {\"sepal length (cm)\": 6.7, \"sepal width (cm)\": 3.0, \"petal length (cm)\": 5.2, \"petal width (cm)\": 2.3, \"target\": 2, \"predict\": 2, \"mds_x\": -1.8582659237285006, \"mds_y\": 0.7071090063818971}, {\"sepal length (cm)\": 6.3, \"sepal width (cm)\": 2.5, \"petal length (cm)\": 5.0, \"petal width (cm)\": 1.9, \"target\": 2, \"predict\": 1, \"mds_x\": -1.132592303567167, \"mds_y\": 1.1178862721345146}, {\"sepal length (cm)\": 6.5, \"sepal width (cm)\": 3.0, \"petal length (cm)\": 5.2, \"petal width (cm)\": 2.0, \"target\": 2, \"predict\": 2, \"mds_x\": -1.5743500733289997, \"mds_y\": 0.8125193229104436}, {\"sepal length (cm)\": 6.2, \"sepal width (cm)\": 3.4, \"petal length (cm)\": 5.4, \"petal width (cm)\": 2.3, \"target\": 2, \"predict\": 2, \"mds_x\": -1.9588384576210862, \"mds_y\": 0.41313241717321597}, {\"sepal length (cm)\": 5.9, \"sepal width (cm)\": 3.0, \"petal length (cm)\": 5.1, \"petal width (cm)\": 1.8, \"target\": 2, \"predict\": 1, \"mds_x\": -1.055365475503466, \"mds_y\": 1.0002351114334973}]}}, {\"mode\": \"vega-lite\"});\n",
       "</script>"
      ],
      "text/plain": [
       "alt.Chart(...)"
      ]
     },
     "execution_count": 16,
     "metadata": {},
     "output_type": "execute_result"
    }
   ],
   "source": [
    "from sklearn import manifold\n",
    "\n",
    "#create mds instance\n",
    "mds = manifold.MDS(n_components=2, random_state=5)\n",
    "\n",
    "#fit the model and get the embedded coordinates\n",
    "pos = mds.fit_transform(data.data)\n",
    "iris['mds_x']= pos[:, 0]\n",
    "iris['mds_y']= pos[:, 1]\n",
    "\n",
    "chart = alt.Chart(iris).mark_point().encode(\n",
    "    alt.X('mds_x'),\n",
    "    alt.Y('mds_y'),\n",
    "    color='target:N'\n",
    ")\n",
    "\n",
    "chart"
   ]
  },
  {
   "cell_type": "code",
   "execution_count": 17,
   "metadata": {},
   "outputs": [
    {
     "data": {
      "text/html": [
       "\n",
       "<div id=\"altair-viz-9bb78d7fb79440859ea9da48ed112bb4\"></div>\n",
       "<script type=\"text/javascript\">\n",
       "  (function(spec, embedOpt){\n",
       "    let outputDiv = document.currentScript.previousElementSibling;\n",
       "    if (outputDiv.id !== \"altair-viz-9bb78d7fb79440859ea9da48ed112bb4\") {\n",
       "      outputDiv = document.getElementById(\"altair-viz-9bb78d7fb79440859ea9da48ed112bb4\");\n",
       "    }\n",
       "    const paths = {\n",
       "      \"vega\": \"https://cdn.jsdelivr.net/npm//vega@5?noext\",\n",
       "      \"vega-lib\": \"https://cdn.jsdelivr.net/npm//vega-lib?noext\",\n",
       "      \"vega-lite\": \"https://cdn.jsdelivr.net/npm//vega-lite@4.8.1?noext\",\n",
       "      \"vega-embed\": \"https://cdn.jsdelivr.net/npm//vega-embed@6?noext\",\n",
       "    };\n",
       "\n",
       "    function loadScript(lib) {\n",
       "      return new Promise(function(resolve, reject) {\n",
       "        var s = document.createElement('script');\n",
       "        s.src = paths[lib];\n",
       "        s.async = true;\n",
       "        s.onload = () => resolve(paths[lib]);\n",
       "        s.onerror = () => reject(`Error loading script: ${paths[lib]}`);\n",
       "        document.getElementsByTagName(\"head\")[0].appendChild(s);\n",
       "      });\n",
       "    }\n",
       "\n",
       "    function showError(err) {\n",
       "      outputDiv.innerHTML = `<div class=\"error\" style=\"color:red;\">${err}</div>`;\n",
       "      throw err;\n",
       "    }\n",
       "\n",
       "    function displayChart(vegaEmbed) {\n",
       "      vegaEmbed(outputDiv, spec, embedOpt)\n",
       "        .catch(err => showError(`Javascript Error: ${err.message}<br>This usually means there's a typo in your chart specification. See the javascript console for the full traceback.`));\n",
       "    }\n",
       "\n",
       "    if(typeof define === \"function\" && define.amd) {\n",
       "      requirejs.config({paths});\n",
       "      require([\"vega-embed\"], displayChart, err => showError(`Error loading script: ${err.message}`));\n",
       "    } else if (typeof vegaEmbed === \"function\") {\n",
       "      displayChart(vegaEmbed);\n",
       "    } else {\n",
       "      loadScript(\"vega\")\n",
       "        .then(() => loadScript(\"vega-lite\"))\n",
       "        .then(() => loadScript(\"vega-embed\"))\n",
       "        .catch(showError)\n",
       "        .then(() => displayChart(vegaEmbed));\n",
       "    }\n",
       "  })({\"config\": {\"view\": {\"continuousWidth\": 400, \"continuousHeight\": 300}}, \"hconcat\": [{\"mark\": \"point\", \"encoding\": {\"color\": {\"type\": \"nominal\", \"field\": \"target\"}, \"x\": {\"type\": \"quantitative\", \"field\": \"mds_x\"}, \"y\": {\"type\": \"quantitative\", \"field\": \"mds_y\"}}}, {\"mark\": \"point\", \"encoding\": {\"color\": {\"type\": \"nominal\", \"field\": \"target\"}, \"x\": {\"type\": \"quantitative\", \"field\": \"pca_x\"}, \"y\": {\"type\": \"quantitative\", \"field\": \"pca_y\"}}}], \"data\": {\"name\": \"data-1e71e3ec0066cc000ef62656780c35e6\"}, \"$schema\": \"https://vega.github.io/schema/vega-lite/v4.8.1.json\", \"datasets\": {\"data-1e71e3ec0066cc000ef62656780c35e6\": [{\"sepal length (cm)\": 5.1, \"sepal width (cm)\": 3.5, \"petal length (cm)\": 1.4, \"petal width (cm)\": 0.2, \"target\": 0, \"predict\": 0, \"mds_x\": 2.159195907845831, \"mds_y\": -1.6414023006590197, \"pca_x\": -2.684125625969541, \"pca_y\": 0.3193972465851031}, {\"sepal length (cm)\": 4.9, \"sepal width (cm)\": 3.0, \"petal length (cm)\": 1.4, \"petal width (cm)\": 0.2, \"target\": 0, \"predict\": 0, \"mds_x\": 2.460008902956102, \"mds_y\": -1.189118421005897, \"pca_x\": -2.7141416872943274, \"pca_y\": -0.17700122506477925}, {\"sepal length (cm)\": 4.7, \"sepal width (cm)\": 3.2, \"petal length (cm)\": 1.3, \"petal width (cm)\": 0.2, \"target\": 0, \"predict\": 0, \"mds_x\": 2.5721416156787082, \"mds_y\": -1.3504663438535889, \"pca_x\": -2.888990569059296, \"pca_y\": -0.14494942608555722}, {\"sepal length (cm)\": 4.6, \"sepal width (cm)\": 3.1, \"petal length (cm)\": 1.5, \"petal width (cm)\": 0.2, \"target\": 0, \"predict\": 0, \"mds_x\": 2.5454410502178666, \"mds_y\": -1.1027538445549556, \"pca_x\": -2.745342855641409, \"pca_y\": -0.31829897925191586}, {\"sepal length (cm)\": 5.0, \"sepal width (cm)\": 3.6, \"petal length (cm)\": 1.4, \"petal width (cm)\": 0.2, \"target\": 0, \"predict\": 0, \"mds_x\": 2.1867896261991766, \"mds_y\": -1.6909419462137523, \"pca_x\": -2.7287165365545287, \"pca_y\": 0.32675451293492047}, {\"sepal length (cm)\": 5.4, \"sepal width (cm)\": 3.9, \"petal length (cm)\": 1.7, \"petal width (cm)\": 0.4, \"target\": 0, \"predict\": 0, \"mds_x\": 1.5719744100352038, \"mds_y\": -1.82542339359004, \"pca_x\": -2.2808596328444914, \"pca_y\": 0.7413304490629157}, {\"sepal length (cm)\": 4.6, \"sepal width (cm)\": 3.4, \"petal length (cm)\": 1.4, \"petal width (cm)\": 0.3, \"target\": 0, \"predict\": 0, \"mds_x\": 2.4963735907795206, \"mds_y\": -1.3876377165786342, \"pca_x\": -2.820537750740608, \"pca_y\": -0.08946138452856846}, {\"sepal length (cm)\": 5.0, \"sepal width (cm)\": 3.4, \"petal length (cm)\": 1.5, \"petal width (cm)\": 0.2, \"target\": 0, \"predict\": 0, \"mds_x\": 2.1882495941065443, \"mds_y\": -1.475080079043102, \"pca_x\": -2.6261449731466318, \"pca_y\": 0.16338495969832917}, {\"sepal length (cm)\": 4.4, \"sepal width (cm)\": 2.9, \"petal length (cm)\": 1.4, \"petal width (cm)\": 0.2, \"target\": 0, \"predict\": 0, \"mds_x\": 2.7900529013237136, \"mds_y\": -0.9666123521075239, \"pca_x\": -2.8863827317805524, \"pca_y\": -0.5783117541867038}, {\"sepal length (cm)\": 4.9, \"sepal width (cm)\": 3.1, \"petal length (cm)\": 1.5, \"petal width (cm)\": 0.1, \"target\": 0, \"predict\": 0, \"mds_x\": 2.3825070995860824, \"mds_y\": -1.2368460036986564, \"pca_x\": -2.672755797820953, \"pca_y\": -0.11377424587411651}, {\"sepal length (cm)\": 5.4, \"sepal width (cm)\": 3.7, \"petal length (cm)\": 1.5, \"petal width (cm)\": 0.2, \"target\": 0, \"predict\": 0, \"mds_x\": 1.8241408743826477, \"mds_y\": -1.8451172507914533, \"pca_x\": -2.5069470906518547, \"pca_y\": 0.6450688986485744}, {\"sepal length (cm)\": 4.8, \"sepal width (cm)\": 3.4, \"petal length (cm)\": 1.6, \"petal width (cm)\": 0.2, \"target\": 0, \"predict\": 0, \"mds_x\": 2.2498026694822313, \"mds_y\": -1.34532273008629, \"pca_x\": -2.612755230908722, \"pca_y\": 0.014729939161374953}, {\"sepal length (cm)\": 4.8, \"sepal width (cm)\": 3.0, \"petal length (cm)\": 1.4, \"petal width (cm)\": 0.1, \"target\": 0, \"predict\": 0, \"mds_x\": 2.549289388017369, \"mds_y\": -1.1780490215333126, \"pca_x\": -2.786109266188017, \"pca_y\": -0.23511200020171813}, {\"sepal length (cm)\": 4.3, \"sepal width (cm)\": 3.0, \"petal length (cm)\": 1.1, \"petal width (cm)\": 0.1, \"target\": 0, \"predict\": 0, \"mds_x\": 3.045045140600104, \"mds_y\": -1.2066853223985508, \"pca_x\": -3.223803743865651, \"pca_y\": -0.511394587006382}, {\"sepal length (cm)\": 5.8, \"sepal width (cm)\": 4.0, \"petal length (cm)\": 1.2, \"petal width (cm)\": 0.2, \"target\": 0, \"predict\": 0, \"mds_x\": 1.6607648863528282, \"mds_y\": -2.398327956296513, \"pca_x\": -2.644750389942029, \"pca_y\": 1.1787646364375761}, {\"sepal length (cm)\": 5.7, \"sepal width (cm)\": 4.4, \"petal length (cm)\": 1.5, \"petal width (cm)\": 0.4, \"target\": 0, \"predict\": 0, \"mds_x\": 1.3498021063988697, \"mds_y\": -2.404891576139671, \"pca_x\": -2.386039033531132, \"pca_y\": 1.3380623304006534}, {\"sepal length (cm)\": 5.4, \"sepal width (cm)\": 3.9, \"petal length (cm)\": 1.3, \"petal width (cm)\": 0.4, \"target\": 0, \"predict\": 0, \"mds_x\": 1.8339559396764344, \"mds_y\": -2.0684203979348075, \"pca_x\": -2.623527875224425, \"pca_y\": 0.8106795141812584}, {\"sepal length (cm)\": 5.1, \"sepal width (cm)\": 3.5, \"petal length (cm)\": 1.4, \"petal width (cm)\": 0.3, \"target\": 0, \"predict\": 0, \"mds_x\": 2.126859057157977, \"mds_y\": -1.6251840467861325, \"pca_x\": -2.6482967062543805, \"pca_y\": 0.3118491445933553}, {\"sepal length (cm)\": 5.7, \"sepal width (cm)\": 3.8, \"petal length (cm)\": 1.7, \"petal width (cm)\": 0.3, \"target\": 0, \"predict\": 0, \"mds_x\": 1.4367367362874433, \"mds_y\": -1.8875386711547462, \"pca_x\": -2.199820323617579, \"pca_y\": 0.8728390389622118}, {\"sepal length (cm)\": 5.1, \"sepal width (cm)\": 3.8, \"petal length (cm)\": 1.5, \"petal width (cm)\": 0.3, \"target\": 0, \"predict\": 0, \"mds_x\": 1.96102878839776, \"mds_y\": -1.7965229117882318, \"pca_x\": -2.5879863998787673, \"pca_y\": 0.5135603087492776}, {\"sepal length (cm)\": 5.4, \"sepal width (cm)\": 3.4, \"petal length (cm)\": 1.7, \"petal width (cm)\": 0.2, \"target\": 0, \"predict\": 0, \"mds_x\": 1.7842420548065947, \"mds_y\": -1.51147333392959, \"pca_x\": -2.3102562152425175, \"pca_y\": 0.39134593565389486}, {\"sepal length (cm)\": 5.1, \"sepal width (cm)\": 3.7, \"petal length (cm)\": 1.5, \"petal width (cm)\": 0.4, \"target\": 0, \"predict\": 0, \"mds_x\": 1.960605154086277, \"mds_y\": -1.7006419024739263, \"pca_x\": -2.5437052287571555, \"pca_y\": 0.43299606327902873}, {\"sepal length (cm)\": 4.6, \"sepal width (cm)\": 3.6, \"petal length (cm)\": 1.0, \"petal width (cm)\": 0.2, \"target\": 0, \"predict\": 0, \"mds_x\": 2.711910509380266, \"mds_y\": -1.796916454971102, \"pca_x\": -3.2159394156486107, \"pca_y\": 0.13346806953852625}, {\"sepal length (cm)\": 5.1, \"sepal width (cm)\": 3.3, \"petal length (cm)\": 1.7, \"petal width (cm)\": 0.5, \"target\": 0, \"predict\": 0, \"mds_x\": 1.931132835109974, \"mds_y\": -1.2588577179170657, \"pca_x\": -2.3027331822262065, \"pca_y\": 0.09870885481409995}, {\"sepal length (cm)\": 4.8, \"sepal width (cm)\": 3.4, \"petal length (cm)\": 1.9, \"petal width (cm)\": 0.2, \"target\": 0, \"predict\": 0, \"mds_x\": 2.070441387067727, \"mds_y\": -1.1206058636253704, \"pca_x\": -2.355754049123772, \"pca_y\": -0.03728185967738212}, {\"sepal length (cm)\": 5.0, \"sepal width (cm)\": 3.0, \"petal length (cm)\": 1.6, \"petal width (cm)\": 0.2, \"target\": 0, \"predict\": 0, \"mds_x\": 2.269177883638773, \"mds_y\": -1.0896234213845044, \"pca_x\": -2.5066689069258206, \"pca_y\": -0.14601688049526743}, {\"sepal length (cm)\": 5.0, \"sepal width (cm)\": 3.4, \"petal length (cm)\": 1.6, \"petal width (cm)\": 0.4, \"target\": 0, \"predict\": 0, \"mds_x\": 2.060228608776036, \"mds_y\": -1.3747407992393967, \"pca_x\": -2.468820073121338, \"pca_y\": 0.13095148943525073}, {\"sepal length (cm)\": 5.2, \"sepal width (cm)\": 3.5, \"petal length (cm)\": 1.5, \"petal width (cm)\": 0.2, \"target\": 0, \"predict\": 0, \"mds_x\": 2.03140707223466, \"mds_y\": -1.6155330787871494, \"pca_x\": -2.562319906196015, \"pca_y\": 0.3677188574342005}, {\"sepal length (cm)\": 5.2, \"sepal width (cm)\": 3.4, \"petal length (cm)\": 1.4, \"petal width (cm)\": 0.2, \"target\": 0, \"predict\": 0, \"mds_x\": 2.1297059603696087, \"mds_y\": -1.6043069256376803, \"pca_x\": -2.6395347153845417, \"pca_y\": 0.3120399802352835}, {\"sepal length (cm)\": 4.7, \"sepal width (cm)\": 3.2, \"petal length (cm)\": 1.6, \"petal width (cm)\": 0.2, \"target\": 0, \"predict\": 0, \"mds_x\": 2.3785685109074177, \"mds_y\": -1.156753791561399, \"pca_x\": -2.6319893872743454, \"pca_y\": -0.1969612249243143}, {\"sepal length (cm)\": 4.8, \"sepal width (cm)\": 3.1, \"petal length (cm)\": 1.6, \"petal width (cm)\": 0.2, \"target\": 0, \"predict\": 0, \"mds_x\": 2.3440772230243985, \"mds_y\": -1.1249987572933315, \"pca_x\": -2.5873984766893514, \"pca_y\": -0.20431849127413315}, {\"sepal length (cm)\": 5.4, \"sepal width (cm)\": 3.4, \"petal length (cm)\": 1.5, \"petal width (cm)\": 0.4, \"target\": 0, \"predict\": 0, \"mds_x\": 1.8529575881469094, \"mds_y\": -1.5961719032549275, \"pca_x\": -2.409932497002174, \"pca_y\": 0.41092426422957334}, {\"sepal length (cm)\": 5.2, \"sepal width (cm)\": 4.1, \"petal length (cm)\": 1.5, \"petal width (cm)\": 0.1, \"target\": 0, \"predict\": 0, \"mds_x\": 1.8298550667863251, \"mds_y\": -2.1323650290423073, \"pca_x\": -2.648862334349911, \"pca_y\": 0.813363820296963}, {\"sepal length (cm)\": 5.5, \"sepal width (cm)\": 4.2, \"petal length (cm)\": 1.4, \"petal width (cm)\": 0.2, \"target\": 0, \"predict\": 0, \"mds_x\": 1.6704841368229533, \"mds_y\": -2.2887888806580414, \"pca_x\": -2.5987367491005857, \"pca_y\": 1.0931457594493577}, {\"sepal length (cm)\": 4.9, \"sepal width (cm)\": 3.1, \"petal length (cm)\": 1.5, \"petal width (cm)\": 0.2, \"target\": 0, \"predict\": 0, \"mds_x\": 2.3471054246550787, \"mds_y\": -1.2217771390708143, \"pca_x\": -2.6369268781057977, \"pca_y\": -0.12132234786586286}, {\"sepal length (cm)\": 5.0, \"sepal width (cm)\": 3.2, \"petal length (cm)\": 1.2, \"petal width (cm)\": 0.2, \"target\": 0, \"predict\": 0, \"mds_x\": 2.4575451351346294, \"mds_y\": -1.523704275154405, \"pca_x\": -2.866241652118669, \"pca_y\": 0.06936447158008105}, {\"sepal length (cm)\": 5.5, \"sepal width (cm)\": 3.5, \"petal length (cm)\": 1.3, \"petal width (cm)\": 0.2, \"target\": 0, \"predict\": 0, \"mds_x\": 1.939821269138361, \"mds_y\": -1.918812957578318, \"pca_x\": -2.625238049850371, \"pca_y\": 0.5993700213794242}, {\"sepal length (cm)\": 4.9, \"sepal width (cm)\": 3.6, \"petal length (cm)\": 1.4, \"petal width (cm)\": 0.1, \"target\": 0, \"predict\": 0, \"mds_x\": 2.2836801007743284, \"mds_y\": -1.6874056206242791, \"pca_x\": -2.8006841154482207, \"pca_y\": 0.26864373779798284}, {\"sepal length (cm)\": 4.4, \"sepal width (cm)\": 3.0, \"petal length (cm)\": 1.3, \"petal width (cm)\": 0.2, \"target\": 0, \"predict\": 0, \"mds_x\": 2.8277305779214617, \"mds_y\": -1.0945546929343788, \"pca_x\": -2.9805020437819927, \"pca_y\": -0.4879583444286153}, {\"sepal length (cm)\": 5.1, \"sepal width (cm)\": 3.4, \"petal length (cm)\": 1.5, \"petal width (cm)\": 0.2, \"target\": 0, \"predict\": 0, \"mds_x\": 2.1265124174400456, \"mds_y\": -1.509072849846276, \"pca_x\": -2.5900063139680944, \"pca_y\": 0.22904383682701318}, {\"sepal length (cm)\": 5.0, \"sepal width (cm)\": 3.5, \"petal length (cm)\": 1.3, \"petal width (cm)\": 0.3, \"target\": 0, \"predict\": 0, \"mds_x\": 2.2600759484832262, \"mds_y\": -1.6482237476267567, \"pca_x\": -2.7701024260279006, \"pca_y\": 0.263527533744257}, {\"sepal length (cm)\": 4.5, \"sepal width (cm)\": 2.3, \"petal length (cm)\": 1.3, \"petal width (cm)\": 0.3, \"target\": 0, \"predict\": 0, \"mds_x\": 2.995945983581146, \"mds_y\": -0.5457466594617171, \"pca_x\": -2.8493687050431022, \"pca_y\": -0.9409605736411968}, {\"sepal length (cm)\": 4.4, \"sepal width (cm)\": 3.2, \"petal length (cm)\": 1.3, \"petal width (cm)\": 0.2, \"target\": 0, \"predict\": 0, \"mds_x\": 2.7813373157533903, \"mds_y\": -1.2316704889486405, \"pca_x\": -2.997406546594907, \"pca_y\": -0.34192605747160976}, {\"sepal length (cm)\": 5.0, \"sepal width (cm)\": 3.5, \"petal length (cm)\": 1.6, \"petal width (cm)\": 0.6, \"target\": 0, \"predict\": 0, \"mds_x\": 1.957510375238926, \"mds_y\": -1.4069594684643336, \"pca_x\": -2.4056144850974843, \"pca_y\": 0.18887142893026088}, {\"sepal length (cm)\": 5.1, \"sepal width (cm)\": 3.8, \"petal length (cm)\": 1.9, \"petal width (cm)\": 0.4, \"target\": 0, \"predict\": 0, \"mds_x\": 1.6201466272847802, \"mds_y\": -1.5747486182226338, \"pca_x\": -2.2094892377836786, \"pca_y\": 0.4366631416391884}, {\"sepal length (cm)\": 4.8, \"sepal width (cm)\": 3.0, \"petal length (cm)\": 1.4, \"petal width (cm)\": 0.3, \"target\": 0, \"predict\": 0, \"mds_x\": 2.4900892486088053, \"mds_y\": -1.1319942772402496, \"pca_x\": -2.714451426757707, \"pca_y\": -0.2502082041852109}, {\"sepal length (cm)\": 5.1, \"sepal width (cm)\": 3.8, \"petal length (cm)\": 1.6, \"petal width (cm)\": 0.2, \"target\": 0, \"predict\": 0, \"mds_x\": 1.9110969755298457, \"mds_y\": -1.76980480290241, \"pca_x\": -2.538148258998939, \"pca_y\": 0.5037711444614382}, {\"sepal length (cm)\": 4.6, \"sepal width (cm)\": 3.2, \"petal length (cm)\": 1.4, \"petal width (cm)\": 0.2, \"target\": 0, \"predict\": 0, \"mds_x\": 2.576638983515084, \"mds_y\": -1.2550851800697478, \"pca_x\": -2.839462167642849, \"pca_y\": -0.22794556949382733}, {\"sepal length (cm)\": 5.3, \"sepal width (cm)\": 3.7, \"petal length (cm)\": 1.5, \"petal width (cm)\": 0.2, \"target\": 0, \"predict\": 0, \"mds_x\": 1.8915285474418193, \"mds_y\": -1.8064926901688394, \"pca_x\": -2.543085749830392, \"pca_y\": 0.5794100215198902}, {\"sepal length (cm)\": 5.0, \"sepal width (cm)\": 3.3, \"petal length (cm)\": 1.4, \"petal width (cm)\": 0.2, \"target\": 0, \"predict\": 0, \"mds_x\": 2.285570086505062, \"mds_y\": -1.4649484173499012, \"pca_x\": -2.7033597823351587, \"pca_y\": 0.1077060824994121}, {\"sepal length (cm)\": 7.0, \"sepal width (cm)\": 3.2, \"petal length (cm)\": 4.7, \"petal width (cm)\": 1.4, \"target\": 1, \"predict\": 1, \"mds_x\": -1.4612145510726369, \"mds_y\": -0.033231190815831015, \"pca_x\": 1.2848256888583536, \"pca_y\": 0.6851604704673091}, {\"sepal length (cm)\": 6.4, \"sepal width (cm)\": 3.2, \"petal length (cm)\": 4.5, \"petal width (cm)\": 1.5, \"target\": 1, \"predict\": 1, \"mds_x\": -0.9448533862748946, \"mds_y\": 0.19925233063205958, \"pca_x\": 0.9324885323123204, \"pca_y\": 0.3183336382626293}, {\"sepal length (cm)\": 6.9, \"sepal width (cm)\": 3.1, \"petal length (cm)\": 4.9, \"petal width (cm)\": 1.5, \"target\": 1, \"predict\": 2, \"mds_x\": -1.5167709095948319, \"mds_y\": 0.22077669892443616, \"pca_x\": 1.4643023219913962, \"pca_y\": 0.5042628153092046}, {\"sepal length (cm)\": 5.5, \"sepal width (cm)\": 2.3, \"petal length (cm)\": 4.0, \"petal width (cm)\": 1.3, \"target\": 1, \"predict\": 1, \"mds_x\": 0.28985219071430157, \"mds_y\": 0.8017680765528807, \"pca_x\": 0.1833177199583726, \"pca_y\": -0.8279590118206326}, {\"sepal length (cm)\": 6.5, \"sepal width (cm)\": 2.8, \"petal length (cm)\": 4.6, \"petal width (cm)\": 1.5, \"target\": 1, \"predict\": 1, \"mds_x\": -0.9881654145496502, \"mds_y\": 0.41481361484459706, \"pca_x\": 1.088103257711668, \"pca_y\": 0.07459067519771641}, {\"sepal length (cm)\": 5.7, \"sepal width (cm)\": 2.8, \"petal length (cm)\": 4.5, \"petal width (cm)\": 1.3, \"target\": 1, \"predict\": 1, \"mds_x\": -0.3271447981759577, \"mds_y\": 0.6787491360348653, \"pca_x\": 0.6416690842580796, \"pca_y\": -0.4182468715686787}, {\"sepal length (cm)\": 6.3, \"sepal width (cm)\": 3.3, \"petal length (cm)\": 4.7, \"petal width (cm)\": 1.6, \"target\": 1, \"predict\": 1, \"mds_x\": -1.0772814424385155, \"mds_y\": 0.3233557019949809, \"pca_x\": 1.095060662632449, \"pca_y\": 0.2834682700615294}, {\"sepal length (cm)\": 4.9, \"sepal width (cm)\": 2.4, \"petal length (cm)\": 3.3, \"petal width (cm)\": 1.0, \"target\": 1, \"predict\": 1, \"mds_x\": 1.1651294072290548, \"mds_y\": 0.469145030364024, \"pca_x\": -0.7491226698296556, \"pca_y\": -1.0048909611818955}, {\"sepal length (cm)\": 6.6, \"sepal width (cm)\": 2.9, \"petal length (cm)\": 4.6, \"petal width (cm)\": 1.3, \"target\": 1, \"predict\": 1, \"mds_x\": -1.0438134533886658, \"mds_y\": 0.20606013424925898, \"pca_x\": 1.0441318260534382, \"pca_y\": 0.2283618997883959}, {\"sepal length (cm)\": 5.2, \"sepal width (cm)\": 2.7, \"petal length (cm)\": 3.9, \"petal width (cm)\": 1.4, \"target\": 1, \"predict\": 1, \"mds_x\": 0.4177590285089092, \"mds_y\": 0.658078352375014, \"pca_x\": -0.008745404082894285, \"pca_y\": -0.7230819050048343}, {\"sepal length (cm)\": 5.0, \"sepal width (cm)\": 2.0, \"petal length (cm)\": 3.5, \"petal width (cm)\": 1.0, \"target\": 1, \"predict\": 1, \"mds_x\": 1.1092752714182867, \"mds_y\": 0.8437032752490716, \"pca_x\": -0.5078408838353242, \"pca_y\": -1.265971190526394}, {\"sepal length (cm)\": 5.9, \"sepal width (cm)\": 3.0, \"petal length (cm)\": 4.2, \"petal width (cm)\": 1.5, \"target\": 1, \"predict\": 1, \"mds_x\": -0.3932135561201032, \"mds_y\": 0.3156951153749653, \"pca_x\": 0.5116985574475993, \"pca_y\": -0.10398123549904023}, {\"sepal length (cm)\": 6.0, \"sepal width (cm)\": 2.2, \"petal length (cm)\": 4.0, \"petal width (cm)\": 1.0, \"target\": 1, \"predict\": 1, \"mds_x\": 0.24645763748521013, \"mds_y\": 0.9037571530774499, \"pca_x\": 0.2649765081120483, \"pca_y\": -0.5500364636804747}, {\"sepal length (cm)\": 6.1, \"sepal width (cm)\": 2.9, \"petal length (cm)\": 4.7, \"petal width (cm)\": 1.4, \"target\": 1, \"predict\": 1, \"mds_x\": -0.7643799336865832, \"mds_y\": 0.607528930346631, \"pca_x\": 0.9849345104708923, \"pca_y\": -0.12481785412635721}, {\"sepal length (cm)\": 5.6, \"sepal width (cm)\": 2.9, \"petal length (cm)\": 3.6, \"petal width (cm)\": 1.3, \"target\": 1, \"predict\": 1, \"mds_x\": 0.2626697794327772, \"mds_y\": 0.06462636324932867, \"pca_x\": -0.17392537168176606, \"pca_y\": -0.2548542087025892}, {\"sepal length (cm)\": 6.7, \"sepal width (cm)\": 3.1, \"petal length (cm)\": 4.4, \"petal width (cm)\": 1.4, \"target\": 1, \"predict\": 1, \"mds_x\": -1.0480363924031888, \"mds_y\": -0.01987540889335866, \"pca_x\": 0.9278607809442491, \"pca_y\": 0.4671794944415109}, {\"sepal length (cm)\": 5.6, \"sepal width (cm)\": 3.0, \"petal length (cm)\": 4.5, \"petal width (cm)\": 1.5, \"target\": 1, \"predict\": 1, \"mds_x\": -0.3740256012078777, \"mds_y\": 0.6621627907375907, \"pca_x\": 0.660283761696939, \"pca_y\": -0.35296966572385036}, {\"sepal length (cm)\": 5.8, \"sepal width (cm)\": 2.7, \"petal length (cm)\": 4.1, \"petal width (cm)\": 1.0, \"target\": 1, \"predict\": 1, \"mds_x\": 0.0046537300120276905, \"mds_y\": 0.4110544109829778, \"pca_x\": 0.2361049933176735, \"pca_y\": -0.33361076682491525}, {\"sepal length (cm)\": 6.2, \"sepal width (cm)\": 2.2, \"petal length (cm)\": 4.5, \"petal width (cm)\": 1.5, \"target\": 1, \"predict\": 1, \"mds_x\": -0.41634759084772804, \"mds_y\": 1.1458486759501094, \"pca_x\": 0.9447337280198155, \"pca_y\": -0.5431455507797666}, {\"sepal length (cm)\": 5.6, \"sepal width (cm)\": 2.5, \"petal length (cm)\": 3.9, \"petal width (cm)\": 1.1, \"target\": 1, \"predict\": 1, \"mds_x\": 0.278752424048784, \"mds_y\": 0.5107009930943402, \"pca_x\": 0.04522697629870169, \"pca_y\": -0.5838343774718644}, {\"sepal length (cm)\": 5.9, \"sepal width (cm)\": 3.2, \"petal length (cm)\": 4.8, \"petal width (cm)\": 1.8, \"target\": 1, \"predict\": 1, \"mds_x\": -0.9422462223461058, \"mds_y\": 0.6354731688102437, \"pca_x\": 1.1162831773500517, \"pca_y\": -0.08461685219478782}, {\"sepal length (cm)\": 6.1, \"sepal width (cm)\": 2.8, \"petal length (cm)\": 4.0, \"petal width (cm)\": 1.3, \"target\": 1, \"predict\": 1, \"mds_x\": -0.28673120578699607, \"mds_y\": 0.16173107864013267, \"pca_x\": 0.3578884179973092, \"pca_y\": -0.06892503165601371}, {\"sepal length (cm)\": 6.3, \"sepal width (cm)\": 2.5, \"petal length (cm)\": 4.9, \"petal width (cm)\": 1.5, \"target\": 1, \"predict\": 1, \"mds_x\": -0.9031580387686525, \"mds_y\": 0.9961232806455667, \"pca_x\": 1.2981838753589157, \"pca_y\": -0.32778730833391734}, {\"sepal length (cm)\": 6.1, \"sepal width (cm)\": 2.8, \"petal length (cm)\": 4.7, \"petal width (cm)\": 1.2, \"target\": 1, \"predict\": 1, \"mds_x\": -0.6547885408558877, \"mds_y\": 0.6651506085559915, \"pca_x\": 0.9217289224470391, \"pca_y\": -0.1827377936213673}, {\"sepal length (cm)\": 6.4, \"sepal width (cm)\": 2.9, \"petal length (cm)\": 4.3, \"petal width (cm)\": 1.3, \"target\": 1, \"predict\": 1, \"mds_x\": -0.6902948337858429, \"mds_y\": 0.16605539210673903, \"pca_x\": 0.7148533259114135, \"pca_y\": 0.14905594436978506}, {\"sepal length (cm)\": 6.6, \"sepal width (cm)\": 3.0, \"petal length (cm)\": 4.4, \"petal width (cm)\": 1.4, \"target\": 1, \"predict\": 1, \"mds_x\": -0.959128862866311, \"mds_y\": 0.07766102600596105, \"pca_x\": 0.9001743731721693, \"pca_y\": 0.3285044738343237}, {\"sepal length (cm)\": 6.8, \"sepal width (cm)\": 2.8, \"petal length (cm)\": 4.8, \"petal width (cm)\": 1.4, \"target\": 1, \"predict\": 1, \"mds_x\": -1.3271022767772467, \"mds_y\": 0.2800513174989292, \"pca_x\": 1.3320244367220904, \"pca_y\": 0.2444408760163438}, {\"sepal length (cm)\": 6.7, \"sepal width (cm)\": 3.0, \"petal length (cm)\": 5.0, \"petal width (cm)\": 1.7, \"target\": 1, \"predict\": 2, \"mds_x\": -1.4581285838348121, \"mds_y\": 0.5708770855561217, \"pca_x\": 1.5578021550660723, \"pca_y\": 0.2674954473102549}, {\"sepal length (cm)\": 6.0, \"sepal width (cm)\": 2.9, \"petal length (cm)\": 4.5, \"petal width (cm)\": 1.5, \"target\": 1, \"predict\": 1, \"mds_x\": -0.6135692672455468, \"mds_y\": 0.535536982258575, \"pca_x\": 0.8132906498175435, \"pca_y\": -0.16335030068761613}, {\"sepal length (cm)\": 5.7, \"sepal width (cm)\": 2.6, \"petal length (cm)\": 3.5, \"petal width (cm)\": 1.0, \"target\": 1, \"predict\": 1, \"mds_x\": 0.48516624301121597, \"mds_y\": 0.16605910486697836, \"pca_x\": -0.30558377802430736, \"pca_y\": -0.3682621897545878}, {\"sepal length (cm)\": 5.5, \"sepal width (cm)\": 2.4, \"petal length (cm)\": 3.8, \"petal width (cm)\": 1.1, \"target\": 1, \"predict\": 1, \"mds_x\": 0.44140329507750914, \"mds_y\": 0.5592198961631314, \"pca_x\": -0.06812649206836169, \"pca_y\": -0.7051721317994655}, {\"sepal length (cm)\": 5.5, \"sepal width (cm)\": 2.4, \"petal length (cm)\": 3.7, \"petal width (cm)\": 1.0, \"target\": 1, \"predict\": 1, \"mds_x\": 0.5452880213444946, \"mds_y\": 0.4974884310199118, \"pca_x\": -0.18962247237849997, \"pca_y\": -0.6802867635281336}, {\"sepal length (cm)\": 5.8, \"sepal width (cm)\": 2.7, \"petal length (cm)\": 3.9, \"petal width (cm)\": 1.2, \"target\": 1, \"predict\": 1, \"mds_x\": 0.05811799566642715, \"mds_y\": 0.31605956562738224, \"pca_x\": 0.1364287115580168, \"pca_y\": -0.31403243824923666}, {\"sepal length (cm)\": 6.0, \"sepal width (cm)\": 2.7, \"petal length (cm)\": 5.1, \"petal width (cm)\": 1.6, \"target\": 1, \"predict\": 1, \"mds_x\": -0.9677373178153076, \"mds_y\": 1.0703419133073093, \"pca_x\": 1.3800264359155132, \"pca_y\": -0.42095428731388185}, {\"sepal length (cm)\": 5.4, \"sepal width (cm)\": 3.0, \"petal length (cm)\": 4.5, \"petal width (cm)\": 1.5, \"target\": 1, \"predict\": 1, \"mds_x\": -0.19683646062584584, \"mds_y\": 0.8430905978547948, \"pca_x\": 0.5880064433398654, \"pca_y\": -0.48428741998121827}, {\"sepal length (cm)\": 6.0, \"sepal width (cm)\": 3.4, \"petal length (cm)\": 4.5, \"petal width (cm)\": 1.6, \"target\": 1, \"predict\": 1, \"mds_x\": -0.8204249793009166, \"mds_y\": 0.13308626308730206, \"pca_x\": 0.8068583125004142, \"pca_y\": 0.1941823147131512}, {\"sepal length (cm)\": 6.7, \"sepal width (cm)\": 3.1, \"petal length (cm)\": 4.7, \"petal width (cm)\": 1.5, \"target\": 1, \"predict\": 1, \"mds_x\": -1.253514350852989, \"mds_y\": 0.21742661697283852, \"pca_x\": 1.2206908824443548, \"pca_y\": 0.4076195936110074}, {\"sepal length (cm)\": 6.3, \"sepal width (cm)\": 2.3, \"petal length (cm)\": 4.4, \"petal width (cm)\": 1.3, \"target\": 1, \"predict\": 1, \"mds_x\": -0.3503530052616813, \"mds_y\": 1.017995609171968, \"pca_x\": 0.815095235766602, \"pca_y\": -0.37203705990950175}, {\"sepal length (cm)\": 5.6, \"sepal width (cm)\": 3.0, \"petal length (cm)\": 4.1, \"petal width (cm)\": 1.3, \"target\": 1, \"predict\": 1, \"mds_x\": -0.09550645003652306, \"mds_y\": 0.2848551415425349, \"pca_x\": 0.24595767988669426, \"pca_y\": -0.2685243966220147}, {\"sepal length (cm)\": 5.5, \"sepal width (cm)\": 2.5, \"petal length (cm)\": 4.0, \"petal width (cm)\": 1.3, \"target\": 1, \"predict\": 1, \"mds_x\": 0.20940075194731383, \"mds_y\": 0.6428336982781065, \"pca_x\": 0.16641321714545868, \"pca_y\": -0.6819267248636267}, {\"sepal length (cm)\": 5.5, \"sepal width (cm)\": 2.6, \"petal length (cm)\": 4.4, \"petal width (cm)\": 1.2, \"target\": 1, \"predict\": 1, \"mds_x\": -0.03620974048281242, \"mds_y\": 0.8237992788048757, \"pca_x\": 0.4648002884037811, \"pca_y\": -0.6707115445117203}, {\"sepal length (cm)\": 6.1, \"sepal width (cm)\": 3.0, \"petal length (cm)\": 4.6, \"petal width (cm)\": 1.4, \"target\": 1, \"predict\": 1, \"mds_x\": -0.7308910879242706, \"mds_y\": 0.4843564187231344, \"pca_x\": 0.8908151984694513, \"pca_y\": -0.034464444368268635}, {\"sepal length (cm)\": 5.8, \"sepal width (cm)\": 2.6, \"petal length (cm)\": 4.0, \"petal width (cm)\": 1.2, \"target\": 1, \"predict\": 1, \"mds_x\": 0.037101977087781644, \"mds_y\": 0.46450554988636433, \"pca_x\": 0.2305480235594573, \"pca_y\": -0.4043858480073251}, {\"sepal length (cm)\": 5.0, \"sepal width (cm)\": 2.3, \"petal length (cm)\": 3.3, \"petal width (cm)\": 1.0, \"target\": 1, \"predict\": 1, \"mds_x\": 1.13307076555784, \"mds_y\": 0.5054946386157878, \"pca_x\": -0.7045317592446619, \"pca_y\": -1.0122482275317146}, {\"sepal length (cm)\": 5.6, \"sepal width (cm)\": 2.7, \"petal length (cm)\": 4.2, \"petal width (cm)\": 1.3, \"target\": 1, \"predict\": 1, \"mds_x\": -0.05224184543308071, \"mds_y\": 0.5866249588143502, \"pca_x\": 0.35698149470104884, \"pca_y\": -0.5049100933371085}, {\"sepal length (cm)\": 5.7, \"sepal width (cm)\": 3.0, \"petal length (cm)\": 4.2, \"petal width (cm)\": 1.2, \"target\": 1, \"predict\": 1, \"mds_x\": -0.179961069589745, \"mds_y\": 0.31486963664243145, \"pca_x\": 0.3319344799450603, \"pca_y\": -0.21265468378116967}, {\"sepal length (cm)\": 5.7, \"sepal width (cm)\": 2.9, \"petal length (cm)\": 4.2, \"petal width (cm)\": 1.3, \"target\": 1, \"predict\": 1, \"mds_x\": -0.17912009523223066, \"mds_y\": 0.4143324049031065, \"pca_x\": 0.3762156510666724, \"pca_y\": -0.2932189292514188}, {\"sepal length (cm)\": 6.2, \"sepal width (cm)\": 2.9, \"petal length (cm)\": 4.3, \"petal width (cm)\": 1.3, \"target\": 1, \"predict\": 1, \"mds_x\": -0.5560546825340009, \"mds_y\": 0.2777023781153169, \"pca_x\": 0.64257600755434, \"pca_y\": 0.017738190112416535}, {\"sepal length (cm)\": 5.1, \"sepal width (cm)\": 2.5, \"petal length (cm)\": 3.0, \"petal width (cm)\": 1.1, \"target\": 1, \"predict\": 1, \"mds_x\": 1.184296512788948, \"mds_y\": 0.18646432842169086, \"pca_x\": -0.9064698649488343, \"pca_y\": -0.7560933665990142}, {\"sepal length (cm)\": 5.7, \"sepal width (cm)\": 2.8, \"petal length (cm)\": 4.1, \"petal width (cm)\": 1.3, \"target\": 1, \"predict\": 1, \"mds_x\": -0.08517907964855716, \"mds_y\": 0.418988593683617, \"pca_x\": 0.29900084187814524, \"pca_y\": -0.3488978064503358}, {\"sepal length (cm)\": 6.3, \"sepal width (cm)\": 3.3, \"petal length (cm)\": 6.0, \"petal width (cm)\": 2.5, \"target\": 2, \"predict\": 2, \"mds_x\": -2.5306626550221694, \"mds_y\": 0.6115436164787817, \"pca_x\": 2.53119272780363, \"pca_y\": -0.009849109498801816}, {\"sepal length (cm)\": 5.8, \"sepal width (cm)\": 2.7, \"petal length (cm)\": 5.1, \"petal width (cm)\": 1.9, \"target\": 2, \"predict\": 1, \"mds_x\": -0.9314723045304905, \"mds_y\": 1.2404132252650464, \"pca_x\": 1.4152358767039046, \"pca_y\": -0.5749163475464895}, {\"sepal length (cm)\": 7.1, \"sepal width (cm)\": 3.0, \"petal length (cm)\": 5.9, \"petal width (cm)\": 2.1, \"target\": 2, \"predict\": 2, \"mds_x\": -2.3873048877389347, \"mds_y\": 1.1858600858368602, \"pca_x\": 2.6166760159956923, \"pca_y\": 0.34390315134173455}, {\"sepal length (cm)\": 6.3, \"sepal width (cm)\": 2.9, \"petal length (cm)\": 5.6, \"petal width (cm)\": 1.8, \"target\": 2, \"predict\": 2, \"mds_x\": -1.5821944364903973, \"mds_y\": 1.2115987306012608, \"pca_x\": 1.9715310530434376, \"pca_y\": -0.1797279043522453}, {\"sepal length (cm)\": 6.5, \"sepal width (cm)\": 3.0, \"petal length (cm)\": 5.8, \"petal width (cm)\": 2.2, \"target\": 2, \"predict\": 2, \"mds_x\": -2.0478330507401172, \"mds_y\": 1.150181562088159, \"pca_x\": 2.3500059200446426, \"pca_y\": -0.040260947142530965}, {\"sepal length (cm)\": 7.6, \"sepal width (cm)\": 3.0, \"petal length (cm)\": 6.6, \"petal width (cm)\": 2.1, \"target\": 2, \"predict\": 2, \"mds_x\": -3.1179516688488476, \"mds_y\": 1.5779710406955039, \"pca_x\": 3.397038736053262, \"pca_y\": 0.5508366730280557}, {\"sepal length (cm)\": 4.9, \"sepal width (cm)\": 2.5, \"petal length (cm)\": 4.5, \"petal width (cm)\": 1.7, \"target\": 2, \"predict\": 1, \"mds_x\": 0.22412513174631343, \"mds_y\": 1.424822661791278, \"pca_x\": 0.5212322439097756, \"pca_y\": -1.1927587270006454}, {\"sepal length (cm)\": 7.3, \"sepal width (cm)\": 2.9, \"petal length (cm)\": 6.3, \"petal width (cm)\": 1.8, \"target\": 2, \"predict\": 2, \"mds_x\": -2.578853170520217, \"mds_y\": 1.6120065215063883, \"pca_x\": 2.9325870689936915, \"pca_y\": 0.3555000029774966}, {\"sepal length (cm)\": 6.7, \"sepal width (cm)\": 2.5, \"petal length (cm)\": 5.8, \"petal width (cm)\": 1.8, \"target\": 2, \"predict\": 2, \"mds_x\": -1.788630021686014, \"mds_y\": 1.5652608485751554, \"pca_x\": 2.32122881657338, \"pca_y\": -0.24383150231069073}, {\"sepal length (cm)\": 7.2, \"sepal width (cm)\": 3.6, \"petal length (cm)\": 6.1, \"petal width (cm)\": 2.5, \"target\": 2, \"predict\": 2, \"mds_x\": -2.9717260720237837, \"mds_y\": 0.7341271962421377, \"pca_x\": 2.9167509667860747, \"pca_y\": 0.7827919488152788}, {\"sepal length (cm)\": 6.5, \"sepal width (cm)\": 3.2, \"petal length (cm)\": 5.1, \"petal width (cm)\": 2.0, \"target\": 2, \"predict\": 2, \"mds_x\": -1.5763661549815413, \"mds_y\": 0.636693951725506, \"pca_x\": 1.6617741536365338, \"pca_y\": 0.24222840775506727}, {\"sepal length (cm)\": 6.4, \"sepal width (cm)\": 2.7, \"petal length (cm)\": 5.3, \"petal width (cm)\": 1.9, \"target\": 2, \"predict\": 2, \"mds_x\": -1.4436855793663992, \"mds_y\": 1.089814579238779, \"pca_x\": 1.8034019529650933, \"pca_y\": -0.21563761733355535}, {\"sepal length (cm)\": 6.8, \"sepal width (cm)\": 3.0, \"petal length (cm)\": 5.5, \"petal width (cm)\": 2.1, \"target\": 2, \"predict\": 2, \"mds_x\": -1.9722726587121047, \"mds_y\": 0.9403810041922233, \"pca_x\": 2.1655917960801476, \"pca_y\": 0.21627558507402495}, {\"sepal length (cm)\": 5.7, \"sepal width (cm)\": 2.5, \"petal length (cm)\": 5.0, \"petal width (cm)\": 2.0, \"target\": 2, \"predict\": 1, \"mds_x\": -0.7686834760057486, \"mds_y\": 1.389916398634182, \"pca_x\": 1.3461635794584532, \"pca_y\": -0.7768183473443395}, {\"sepal length (cm)\": 5.8, \"sepal width (cm)\": 2.8, \"petal length (cm)\": 5.1, \"petal width (cm)\": 2.4, \"target\": 2, \"predict\": 1, \"mds_x\": -1.661724840418631, \"mds_y\": 0.2515498747510872, \"pca_x\": 1.5859282238732233, \"pca_y\": -0.5396407140267188}, {\"sepal length (cm)\": 6.4, \"sepal width (cm)\": 3.2, \"petal length (cm)\": 5.3, \"petal width (cm)\": 2.3, \"target\": 2, \"predict\": 2, \"mds_x\": -1.836843606257043, \"mds_y\": 0.6588658535015015, \"pca_x\": 1.9044563747934289, \"pca_y\": 0.1192506920919729}, {\"sepal length (cm)\": 6.5, \"sepal width (cm)\": 3.0, \"petal length (cm)\": 5.5, \"petal width (cm)\": 1.8, \"target\": 2, \"predict\": 2, \"mds_x\": -1.6728256458516222, \"mds_y\": 1.0169946158078829, \"pca_x\": 1.9496890593990717, \"pca_y\": 0.04194325966321156}, {\"sepal length (cm)\": 7.7, \"sepal width (cm)\": 3.8, \"petal length (cm)\": 6.7, \"petal width (cm)\": 2.2, \"target\": 2, \"predict\": 2, \"mds_x\": -3.6190465939607592, \"mds_y\": 0.8778508404723082, \"pca_x\": 3.487055364290282, \"pca_y\": 1.1757393297134298}, {\"sepal length (cm)\": 7.7, \"sepal width (cm)\": 2.6, \"petal length (cm)\": 6.9, \"petal width (cm)\": 2.3, \"target\": 2, \"predict\": 2, \"mds_x\": -3.2742607378716264, \"mds_y\": 2.0512545100653665, \"pca_x\": 3.7956454220728855, \"pca_y\": 0.2573229734204796}, {\"sepal length (cm)\": 6.0, \"sepal width (cm)\": 2.2, \"petal length (cm)\": 5.0, \"petal width (cm)\": 1.5, \"target\": 2, \"predict\": 1, \"mds_x\": -0.6679446240204098, \"mds_y\": 1.4042317238771183, \"pca_x\": 1.3007917126376594, \"pca_y\": -0.7611496364350634}, {\"sepal length (cm)\": 6.9, \"sepal width (cm)\": 3.2, \"petal length (cm)\": 5.7, \"petal width (cm)\": 2.3, \"target\": 2, \"predict\": 2, \"mds_x\": -2.3158102600658945, \"mds_y\": 0.881504090079262, \"pca_x\": 2.4278179130660478, \"pca_y\": 0.37819601261705094}, {\"sepal length (cm)\": 5.6, \"sepal width (cm)\": 2.8, \"petal length (cm)\": 4.9, \"petal width (cm)\": 2.0, \"target\": 2, \"predict\": 1, \"mds_x\": -0.6937756680930502, \"mds_y\": 1.25530253530407, \"pca_x\": 1.1990011054655627, \"pca_y\": -0.6060915277579306}, {\"sepal length (cm)\": 7.7, \"sepal width (cm)\": 2.8, \"petal length (cm)\": 6.7, \"petal width (cm)\": 2.0, \"target\": 2, \"predict\": 2, \"mds_x\": -3.1248508742604626, \"mds_y\": 1.821017297395879, \"pca_x\": 3.49992003892454, \"pca_y\": 0.46067409891189526}, {\"sepal length (cm)\": 6.3, \"sepal width (cm)\": 2.7, \"petal length (cm)\": 4.9, \"petal width (cm)\": 1.8, \"target\": 2, \"predict\": 1, \"mds_x\": -1.1076590719402921, \"mds_y\": 0.8533117629761672, \"pca_x\": 1.3887661316914672, \"pca_y\": -0.2043993273521508}, {\"sepal length (cm)\": 6.7, \"sepal width (cm)\": 3.3, \"petal length (cm)\": 5.7, \"petal width (cm)\": 2.1, \"target\": 2, \"predict\": 2, \"mds_x\": -2.1508183826590983, \"mds_y\": 0.8795365067722365, \"pca_x\": 2.275430503872207, \"pca_y\": 0.3349906058216776}, {\"sepal length (cm)\": 7.2, \"sepal width (cm)\": 3.2, \"petal length (cm)\": 6.0, \"petal width (cm)\": 1.8, \"target\": 2, \"predict\": 2, \"mds_x\": -2.4440734788003886, \"mds_y\": 1.259935437483166, \"pca_x\": 2.6140904738108337, \"pca_y\": 0.5609013551230783}, {\"sepal length (cm)\": 6.2, \"sepal width (cm)\": 2.8, \"petal length (cm)\": 4.8, \"petal width (cm)\": 1.8, \"target\": 2, \"predict\": 1, \"mds_x\": -1.0049968068437654, \"mds_y\": 0.7765342224574813, \"pca_x\": 1.2585081605114898, \"pca_y\": -0.17970479472274653}, {\"sepal length (cm)\": 6.1, \"sepal width (cm)\": 3.0, \"petal length (cm)\": 4.9, \"petal width (cm)\": 1.8, \"target\": 2, \"predict\": 1, \"mds_x\": -1.070578706120904, \"mds_y\": 0.7405847942523203, \"pca_x\": 1.291132059115023, \"pca_y\": -0.11666865117401132}, {\"sepal length (cm)\": 6.4, \"sepal width (cm)\": 2.8, \"petal length (cm)\": 5.6, \"petal width (cm)\": 2.1, \"target\": 2, \"predict\": 2, \"mds_x\": -1.7416403308495467, \"mds_y\": 1.2188202612433876, \"pca_x\": 2.123608722773897, \"pca_y\": -0.20972947667730266}, {\"sepal length (cm)\": 7.2, \"sepal width (cm)\": 3.0, \"petal length (cm)\": 5.8, \"petal width (cm)\": 1.6, \"target\": 2, \"predict\": 2, \"mds_x\": -2.1201103029950366, \"mds_y\": 1.4304934090954868, \"pca_x\": 2.38800301600347, \"pca_y\": 0.4646398047087367}, {\"sepal length (cm)\": 7.4, \"sepal width (cm)\": 2.8, \"petal length (cm)\": 6.1, \"petal width (cm)\": 1.9, \"target\": 2, \"predict\": 2, \"mds_x\": -2.5100687372739827, \"mds_y\": 1.565910926038844, \"pca_x\": 2.841672778103873, \"pca_y\": 0.37526916719510356}, {\"sepal length (cm)\": 7.9, \"sepal width (cm)\": 3.8, \"petal length (cm)\": 6.4, \"petal width (cm)\": 2.0, \"target\": 2, \"predict\": 2, \"mds_x\": -3.509226161576953, \"mds_y\": 0.5745439288520163, \"pca_x\": 3.2306736614320952, \"pca_y\": 1.3741650867930482}, {\"sepal length (cm)\": 6.4, \"sepal width (cm)\": 2.8, \"petal length (cm)\": 5.6, \"petal width (cm)\": 2.2, \"target\": 2, \"predict\": 2, \"mds_x\": -1.7849583950075325, \"mds_y\": 1.2278078836523667, \"pca_x\": 2.1594376424890522, \"pca_y\": -0.21727757866904904}, {\"sepal length (cm)\": 6.3, \"sepal width (cm)\": 2.8, \"petal length (cm)\": 5.1, \"petal width (cm)\": 1.5, \"target\": 2, \"predict\": 1, \"mds_x\": -1.1593462548236744, \"mds_y\": 0.8815929653585453, \"pca_x\": 1.4441612423295116, \"pca_y\": -0.14341341045758058}, {\"sepal length (cm)\": 6.1, \"sepal width (cm)\": 2.6, \"petal length (cm)\": 5.6, \"petal width (cm)\": 1.4, \"target\": 2, \"predict\": 2, \"mds_x\": -1.1964215913348153, \"mds_y\": 1.5372914095229835, \"pca_x\": 1.7812948100451143, \"pca_y\": -0.49990168107813643}, {\"sepal length (cm)\": 7.7, \"sepal width (cm)\": 3.0, \"petal length (cm)\": 6.1, \"petal width (cm)\": 2.3, \"target\": 2, \"predict\": 2, \"mds_x\": -2.982111679072791, \"mds_y\": 1.2398695673396234, \"pca_x\": 3.0764999316871897, \"pca_y\": 0.6880856775711761}, {\"sepal length (cm)\": 6.3, \"sepal width (cm)\": 3.4, \"petal length (cm)\": 5.6, \"petal width (cm)\": 2.4, \"target\": 2, \"predict\": 2, \"mds_x\": -2.185306980141586, \"mds_y\": 0.4984647190859155, \"pca_x\": 2.144243314302084, \"pca_y\": 0.14006420108979026}, {\"sepal length (cm)\": 6.4, \"sepal width (cm)\": 3.1, \"petal length (cm)\": 5.5, \"petal width (cm)\": 1.8, \"target\": 2, \"predict\": 2, \"mds_x\": -1.649393939742091, \"mds_y\": 0.9850440686467618, \"pca_x\": 1.9050981488140784, \"pca_y\": 0.04930052601303041}, {\"sepal length (cm)\": 6.0, \"sepal width (cm)\": 3.0, \"petal length (cm)\": 4.8, \"petal width (cm)\": 1.8, \"target\": 2, \"predict\": 1, \"mds_x\": -0.9331544507898674, \"mds_y\": 0.73759913313556, \"pca_x\": 1.1693263393415023, \"pca_y\": -0.16499026202310949}, {\"sepal length (cm)\": 6.9, \"sepal width (cm)\": 3.1, \"petal length (cm)\": 5.4, \"petal width (cm)\": 2.1, \"target\": 2, \"predict\": 2, \"mds_x\": -2.003674360125472, \"mds_y\": 0.7963269901417561, \"pca_x\": 2.1076111432572446, \"pca_y\": 0.3722878719607979}, {\"sepal length (cm)\": 6.7, \"sepal width (cm)\": 3.1, \"petal length (cm)\": 5.6, \"petal width (cm)\": 2.4, \"target\": 2, \"predict\": 2, \"mds_x\": -2.189581909576165, \"mds_y\": 0.8394566130375688, \"pca_x\": 2.314154705235602, \"pca_y\": 0.18365127916901905}, {\"sepal length (cm)\": 6.9, \"sepal width (cm)\": 3.1, \"petal length (cm)\": 5.1, \"petal width (cm)\": 2.3, \"target\": 2, \"predict\": 2, \"mds_x\": -1.9623954690168592, \"mds_y\": 0.47993258826379126, \"pca_x\": 1.922267800902603, \"pca_y\": 0.40920346681606246}, {\"sepal length (cm)\": 5.8, \"sepal width (cm)\": 2.7, \"petal length (cm)\": 5.1, \"petal width (cm)\": 1.9, \"target\": 2, \"predict\": 1, \"mds_x\": -0.9314723045269683, \"mds_y\": 1.2404132252704618, \"pca_x\": 1.4152358767039046, \"pca_y\": -0.5749163475464895}, {\"sepal length (cm)\": 6.8, \"sepal width (cm)\": 3.2, \"petal length (cm)\": 5.9, \"petal width (cm)\": 2.3, \"target\": 2, \"predict\": 2, \"mds_x\": -2.4037549791610733, \"mds_y\": 0.9671316867733369, \"pca_x\": 2.5630133750774777, \"pca_y\": 0.277862602929195}, {\"sepal length (cm)\": 6.7, \"sepal width (cm)\": 3.3, \"petal length (cm)\": 5.7, \"petal width (cm)\": 2.5, \"target\": 2, \"predict\": 2, \"mds_x\": -2.3805089163631656, \"mds_y\": 0.7162498891887031, \"pca_x\": 2.418746182732827, \"pca_y\": 0.3047981978546921}, {\"sepal length (cm)\": 6.7, \"sepal width (cm)\": 3.0, \"petal length (cm)\": 5.2, \"petal width (cm)\": 2.3, \"target\": 2, \"predict\": 2, \"mds_x\": -1.8582659237285006, \"mds_y\": 0.7071090063818971, \"pca_x\": 1.9441097945469699, \"pca_y\": 0.18753230280060532}, {\"sepal length (cm)\": 6.3, \"sepal width (cm)\": 2.5, \"petal length (cm)\": 5.0, \"petal width (cm)\": 1.9, \"target\": 2, \"predict\": 1, \"mds_x\": -1.132592303567167, \"mds_y\": 1.1178862721345146, \"pca_x\": 1.5271666148145193, \"pca_y\": -0.3753169825804884}, {\"sepal length (cm)\": 6.5, \"sepal width (cm)\": 3.0, \"petal length (cm)\": 5.2, \"petal width (cm)\": 2.0, \"target\": 2, \"predict\": 2, \"mds_x\": -1.5743500733289997, \"mds_y\": 0.8125193229104436, \"pca_x\": 1.7643457170444314, \"pca_y\": 0.07885885451847592}, {\"sepal length (cm)\": 6.2, \"sepal width (cm)\": 3.4, \"petal length (cm)\": 5.4, \"petal width (cm)\": 2.3, \"target\": 2, \"predict\": 2, \"mds_x\": -1.9588384576210862, \"mds_y\": 0.41313241717321597, \"pca_x\": 1.900941614218426, \"pca_y\": 0.11662795851202372}, {\"sepal length (cm)\": 5.9, \"sepal width (cm)\": 3.0, \"petal length (cm)\": 5.1, \"petal width (cm)\": 1.8, \"target\": 2, \"predict\": 1, \"mds_x\": -1.055365475503466, \"mds_y\": 1.0002351114334973, \"pca_x\": 1.3901888619479161, \"pca_y\": -0.2826609379905505}]}}, {\"mode\": \"vega-lite\"});\n",
       "</script>"
      ],
      "text/plain": [
       "alt.HConcatChart(...)"
      ]
     },
     "execution_count": 17,
     "metadata": {},
     "output_type": "execute_result"
    }
   ],
   "source": [
    "#compare with PCA\n",
    "\n",
    "from sklearn import decomposition\n",
    "\n",
    "pca = decomposition.PCA(n_components=2)\n",
    "pca_pos = pca.fit_transform(data.data)\n",
    "iris['pca_x']= pca_pos[:, 0]\n",
    "iris['pca_y']= pca_pos[:, 1]\n",
    "\n",
    "chart | chart.encode(x='pca_x', y='pca_y')"
   ]
  },
  {
   "cell_type": "markdown",
   "metadata": {},
   "source": [
    "Seems like versicolor and virginicia are more similar than setosa."
   ]
  },
  {
   "cell_type": "markdown",
   "metadata": {},
   "source": [
    "## TASK\n",
    "\n",
    "> Create an interactive colored plot of the Iris dataset projected in 2D using MDS. The color should correspong to the result of a K-Means clusterin alrogithm where the user can interactivly define the number of clusters between 1 and 10. "
   ]
  },
  {
   "cell_type": "code",
   "execution_count": null,
   "metadata": {},
   "outputs": [],
   "source": []
  },
  {
   "cell_type": "code",
   "execution_count": 18,
   "metadata": {
    "collapsed": true,
    "jupyter": {
     "outputs_hidden": true,
     "source_hidden": true
    },
    "tags": []
   },
   "outputs": [
    {
     "data": {
      "application/vnd.jupyter.widget-view+json": {
       "model_id": "96453ea39e4542758e02b603d9c39edc",
       "version_major": 2,
       "version_minor": 0
      },
      "text/plain": [
       "interactive(children=(IntSlider(value=5, description='n_clusters', max=10, min=1), Output()), _dom_classes=('w…"
      ]
     },
     "metadata": {},
     "output_type": "display_data"
    }
   ],
   "source": [
    "from ipywidgets import interact\n",
    "\n",
    "@interact(n_clusters=(1,10))\n",
    "def draw_plot(n_clusters):\n",
    "    kmeans = KMeans(n_clusters=n_clusters, random_state = 102)\n",
    "    iris['predict'] = kmeans.fit_predict(data.data)\n",
    "    return alt.Chart(iris).mark_point().encode(\n",
    "        alt.X('mds_x'),\n",
    "        alt.Y('mds_y'),\n",
    "        color='predict:N'\n",
    "    )"
   ]
  },
  {
   "cell_type": "markdown",
   "metadata": {},
   "source": [
    "Thanks!"
   ]
  }
 ],
 "metadata": {
  "anaconda-cloud": {},
  "kernelspec": {
   "display_name": "Python 3 (ipykernel)",
   "language": "python",
   "name": "python3"
  },
  "language_info": {
   "codemirror_mode": {
    "name": "ipython",
    "version": 3
   },
   "file_extension": ".py",
   "mimetype": "text/x-python",
   "name": "python",
   "nbconvert_exporter": "python",
   "pygments_lexer": "ipython3",
   "version": "3.9.7"
  }
 },
 "nbformat": 4,
 "nbformat_minor": 4
}
